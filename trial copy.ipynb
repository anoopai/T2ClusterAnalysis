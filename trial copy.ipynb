{
 "cells": [
  {
   "cell_type": "code",
   "execution_count": null,
   "metadata": {},
   "outputs": [],
   "source": [
    "%load_ext autoreload\n",
    "%autoreload 2\n",
    "\n",
    "import os\n",
    "import nibabel as nib\n",
    "import matplotlib.pyplot as plt\n",
    "import numpy as np\n",
    "import subprocess\n",
    "import pickle\n",
    "\n",
    "import SimpleITK as sitk\n",
    "\n",
    "from utils.generate_fc_subregions import generate_fc_subregions"
   ]
  },
  {
   "cell_type": "code",
   "execution_count": null,
   "metadata": {},
   "outputs": [],
   "source": [
    "os.environ['DIR']= '/dataNAS/people/anoopai/DODGR'\n",
    "os.environ['DATA_DICOM']= '/dataNAS/people/anoopai/DODGR/DODGR_data_dicom'\n",
    "os.environ['DATA']= '/dataNAS/people/anoopai/DODGR/DODGR_data'\n",
    "os.environ['FILES']= '/dataNAS/people/anoopai/DODGR/code/files'\n",
    "os.environ['REG']= '/dataNAS/people/anoopai/DODGR/reg'\n",
    "os.environ['RESULTS'] = '/dataNAS/people/anoopai/DODGR/results'\n",
    "\n",
    "# Change working directory to the directory containing data\n",
    "dir_path = os.environ['DIR']\n",
    "dicom_data_path = os.environ['DATA_DICOM']\n",
    "data_path = os.environ['DATA']\n",
    "files_path = os.environ['FILES']\n",
    "reg_path = os.environ['REG']\n",
    "results_path = os.environ['RESULTS']\n",
    "\n",
    "# Set elastix environment variables\n",
    "elastix_folder = '/dataNAS/people/anoopai/elastix'\n",
    "os.environ['PATH'] = f\"{elastix_folder}/bin:{os.environ['PATH']}\"\n",
    "if 'LD_LIBRARY_PATH' in os.environ:\n",
    "    os.environ['LD_LIBRARY_PATH'] = f\"{elastix_folder}/lib:{os.environ['LD_LIBRARY_PATH']}\"\n",
    "else:\n",
    "    os.environ['LD_LIBRARY_PATH'] = f\"{elastix_folder}/lib\"\n",
    "\n",
    "#!elastix --version\n",
    "try:\n",
    "    version_output = subprocess.check_output(['elastix', '--version'], stderr=subprocess.STDOUT, text=True)\n",
    "    print(\"Elastix version information:\")\n",
    "    print(version_output)\n",
    "except subprocess.CalledProcessError as e:\n",
    "    print(\"Error running elastix --version:\")\n",
    "    print(e.output)"
   ]
  },
  {
   "cell_type": "code",
   "execution_count": null,
   "metadata": {},
   "outputs": [],
   "source": [
    "print('Dividing femoral cartilage into 5 subregions')\n",
    "\n",
    "for sub_dir in os.listdir(data_path):\n",
    "    sub_dir_path = os.path.join(data_path, sub_dir)\n",
    "\n",
    "    session_dirs= os.listdir(sub_dir_path)\n",
    "\n",
    "    bsln_dirs= [dir for dir in os.listdir(sub_dir_path) if 'bsln' in dir]\n",
    "    fup_dirs= [dir for dir in os.listdir(sub_dir_path) if '6mo' in dir]\n",
    "\n",
    "    session_dirs = [bsln_dirs, fup_dirs]\n",
    "\n",
    "    for session_dir in session_dirs:\n",
    "        for knee_dir in session_dir:\n",
    "            dir_path = os.path.join(sub_dir_path, knee_dir) \n",
    "            print(knee_dir)\n",
    "            if 'IDX' in knee_dir:  \n",
    "                seg_path = os.path.join(dir_path, 'segmentation_regToCl.nii')  \n",
    "                fc_subregions_save_path = os.path.join(dir_path, 'segmentation_regToCl_fc_subregions.nii')\n",
    "            # elif 'CL' in knee_dir:\n",
    "            #     seg_path = os.path.join(dir_path, 'segmentation.nii')\n",
    "            #     fc_subregions_save_path = os.path.join(dir_path, 'segmentation_regToCl_fc_subregions.nii')\n",
    "                \n",
    "                print(f'Generating subregions for {knee_dir}')\n",
    "                fc_subregions = generate_fc_subregions(\n",
    "                    input_seg_file_path= seg_path, \n",
    "                    output_seg_file_path= fc_subregions_save_path\n",
    "                   )"
   ]
  },
  {
   "cell_type": "markdown",
   "metadata": {},
   "source": [
    "# Flip all the CL knees as IDX knee"
   ]
  },
  {
   "cell_type": "code",
   "execution_count": 3,
   "metadata": {},
   "outputs": [],
   "source": [
    "# elastix_file_path = os.path.join(files_path, 'elastic_parameters/elastix_registration_parameters_SDF_mask.txt')\n",
    "\n",
    "# # idensify baseline and follow-up scans for ACLR and contralateral legs\n",
    "# for sub_dir in os.listdir(data_path):\n",
    "#     sub_dir_path = os.path.join(data_path, sub_dir)\n",
    "    \n",
    "#     bsln_dirs= [dir for dir in os.listdir(sub_dir_path) if 'bsln' in dir]\n",
    "#     fup_dirs= [dir for dir in os.listdir(sub_dir_path) if '6mo' in dir]\n",
    "    \n",
    "#     visit_dirs = [bsln_dirs, fup_dirs]\n",
    "    \n",
    "#     for visit_dir in visit_dirs:\n",
    "#         print(visit_dir)\n",
    "#         for knee_dir in visit_dir:\n",
    "#             print(knee_dir)\n",
    "#             if 'IDX' in knee_dir:\n",
    "#                 IDX_dir_path = os.path.join(sub_dir_path, knee_dir)\n",
    "#             elif 'CL' in knee_dir:\n",
    "#                 CL_dir_path = os.path.join(sub_dir_path, knee_dir)   \n",
    "                \n",
    "#         IDX_qdess_path = os.path.join(IDX_dir_path, 'qdess')\n",
    "#         IDX_seg_path = os.path.join(IDX_dir_path, 'segmentation_fc.nii')\n",
    "#         IDX_qdess_reg_path = os.path.join(IDX_dir_path, 'qdess_regToCl')\n",
    "        \n",
    "#         CL_qdess_path = os.path.join(CL_dir_path, 'qdess')\n",
    "#         CL_seg_path = os.path.join(CL_dir_path, 'segmentation_fc.nii')\n",
    "        \n",
    "#         knee= knee_dir.split('_')[1]\n",
    "#         sub = knee_dir.split('_')[0]\n",
    "#         visit= knee_dir.split('_')[2]\n",
    "        \n",
    "#         if not os.path.exists(IDX_qdess_reg_path):\n",
    "        \n",
    "#             print(f'Registering IDX to CL for {visit} leg of {sub}')\n",
    "            \n",
    "#             sgd_based_bilateral_qdess_registration(\n",
    "#             fixed_img_path = CL_qdess_path,\n",
    "#             moving_img_path = IDX_qdess_path,\n",
    "#             moving_img_save_path = IDX_qdess_reg_path,\n",
    "#             fixed_mask_path = CL_seg_path,\n",
    "#             moving_mask_path = IDX_seg_path,\n",
    "#             elastix_file_path = elastix_file_path,\n",
    "#             reg_path = reg_path,  \n",
    "#             reg_check = True  # if True, it will save the a jpg pciture of a random slice (n) of the segmentation mask of the fixed image overlayed on the registered moving image)\n",
    "#             ) "
   ]
  },
  {
   "cell_type": "code",
   "execution_count": 59,
   "metadata": {},
   "outputs": [],
   "source": [
    "elastix_file_path = os.path.join(files_path, 'elastic_parameters/elastix_registration_parameters_SDF_mask.txt')\n",
    "\n",
    "elastix_file_path = os.path.join(files_path, 'elastic_parameters/elastix_registration_parameters_SDF_mask.txt')\n",
    "moving_img_path= '/dataNAS/people/anoopai/DODGR/DODGR_data/DODGR023_anon/DODGR023_IDX_6mo_anon/qdess'\n",
    "moving_mask_path = '/dataNAS/people/anoopai/DODGR/DODGR_data/DODGR023_anon/DODGR023_IDX_6mo_anon/segmentation_fc.nii'\n",
    "fixed_img_path = '/dataNAS/people/anoopai/DODGR/DODGR_data/DODGR023_anon/DODGR023_CL_6mo_anon/qdess'\n",
    "fixed_mask_path = '/dataNAS/people/anoopai/DODGR/DODGR_data/DODGR023_anon/DODGR023_CL_6mo_anon/segmentation_fc.nii'\n",
    "moving_img_save_path = '/dataNAS/people/anoopai/DODGR/DODGR_data/qdess_reg2CL'\n",
    "moving_img_reornt_path = '/dataNAS/people/anoopai/DODGR/DODGR_data/qdess_reornt'\n",
    "seg_reg_SDF_save_path = '/dataNAS/people/anoopai/DODGR/DODGR_data/seg_reg_SDF.nii'"
   ]
  },
  {
   "cell_type": "code",
   "execution_count": null,
   "metadata": {},
   "outputs": [],
   "source": [
    "output_path= os.path.join(reg_path, f'registration_files')\n",
    "\n",
    "shutil.rmtree(output_path, ignore_errors=True)\n",
    "\n",
    "if not os.path.exists(output_path):\n",
    "    os.makedirs(output_path)\n",
    "\n",
    "# Delete anything in the output directory.\n",
    "# This is to make sure there aren't any lingering files that cause the run to succeed sometimes.\n",
    "shutil.rmtree(moving_img_save_path, ignore_errors=True)\n",
    "\n",
    "# Load qdess scan\n",
    "qdess_fixed = QDess.load(fixed_img_path)\n",
    "qdess_moving = QDess.load(moving_img_path)\n",
    "\n",
    "# Get echos of the qdess\n",
    "qdess_fixed_echo1 = qdess_fixed.volumes[0]\n",
    "qdess_fixed_echo2 = qdess_fixed.volumes[1]  \n",
    "qdess_moving_echo1 = qdess_moving.volumes[0]\n",
    "qdess_moving_echo2 = qdess_moving.volumes[1]\n",
    "\n",
    "# reformat the medical volumes (so that both legs are either right or left side)\n",
    "qdess_fixed_ornt = qdess_fixed_echo1.orientation\n",
    "\n",
    "# Flip the orientation of the moving qdess scans\n",
    "flipped_ornt= tuple('LR' if x == 'RL' else 'RL' if x == 'LR' else x for x in qdess_fixed_ornt)\n",
    "\n",
    "# Reformat the moving qdess scans\n",
    "qdess_moving_echo1_reornt= qdess_moving_echo1.reformat(flipped_ornt)\n",
    "qdess_moving_echo2_reornt= qdess_moving_echo2.reformat(flipped_ornt)\n",
    "qdess_moving_echo1_reornt_mv= dm.MedicalVolume(qdess_moving_echo1_reornt.A, qdess_fixed_echo1.affine)\n",
    "qdess_moving_echo2_reornt_mv= dm.MedicalVolume(qdess_moving_echo2_reornt.A, qdess_fixed_echo2.affine)\n",
    "\n",
    "# load the segmentation for femoral cartilage\n",
    "reader = dm.NiftiReader()\n",
    "seg_fixed = reader.load(fixed_mask_path)\n",
    "seg_moving = reader.load(moving_mask_path)\n",
    "seg_moving_reornt = seg_moving.reformat(flipped_ornt)\n",
    "seg_moving_reornt_mv= dm.MedicalVolume(seg_moving_reornt.A, seg_fixed.affine)  \n",
    "\n",
    "# Combine to form a Qdess Scan\n",
    "qdess_moving_reornt = QDess([qdess_moving_echo1_reornt_mv, qdess_moving_echo1_reornt_mv])\n",
    "qdess_moving_reornt.save(moving_img_reornt_path, save_custom=True, image_data_format=ImageDataFormat.nifti)\n",
    "\n",
    "seg_fixed_binary= np.where(seg_fixed.A > 0, 1, seg_fixed.A)\n",
    "seg_moving_binary= np.where(seg_moving_reornt_mv.A > 0, 1, seg_moving_reornt_mv.A)\n",
    "\n",
    "seg_signed_fixed= signed_maurer_distance_map_image_filter(seg_fixed_binary)\n",
    "seg_signed_fixed= seg_signed_fixed.astype(np.float64)\n",
    "seg_signed_threshold_0= np.where(seg_signed_fixed > 5, 1, seg_signed_fixed)\n",
    "seg_signed_mv_0 = dm.MedicalVolume(seg_signed_threshold_0, qdess_fixed_echo1.affine)\n",
    "\n",
    "seg_signed_moving= signed_maurer_distance_map_image_filter(seg_moving_binary)\n",
    "seg_signed_moving= seg_signed_moving.astype(np.float64)\n",
    "seg_signed_threshold_1= np.where(seg_signed_moving > 5, 1, seg_signed_moving)\n",
    "seg_signed_mv_1 = dm.MedicalVolume(seg_signed_threshold_1, qdess_moving_echo1_reornt_mv.affine)\n",
    "\n",
    "# Registration\n",
    "# print(\"Starting Registration\")\n",
    "\n",
    "output= dm.register(\n",
    "    target=seg_signed_mv_0, \n",
    "    moving=seg_signed_mv_1, \n",
    "    parameters=elastix_file_path, \n",
    "    output_path=output_path, \n",
    "    return_volumes=True, \n",
    "    num_workers= 50,\n",
    "    num_threads= 50,\n",
    "    show_pbar=True)\n",
    "\n",
    "print(\"Registration completed\")\n",
    "\n",
    "# # gather the registration parameters\n",
    "# registration_parameters = output[\"outputs\"][0]\n",
    "# registered_mask_1 = output['volume'][0]\n",
    "# # registered_mask_1.save_volume(seg_reg_SDF_save_path)\n",
    "\n",
    "# # Warp the Qdess scan using the registration parametrs obtained in the mask registration\n",
    "# reg_echo1 = dm.apply_warp(qdess_moving_echo1_reornt_mv, out_registration=registration_parameters)\n",
    "# reg_echo2 = dm.apply_warp(qdess_moving_echo2_reornt_mv, out_registration=registration_parameters)\n",
    "\n",
    "# # Recontrust the qdess scans from the registered qdess echos\n",
    "# qdess_moving_reg = QDess([reg_echo1, reg_echo2]) # make a qdess \\  \n",
    "\n",
    "# # save qdess scans\n",
    "# print(f'Saving registered qdess files for {os.path.basename(moving_img_path)}')\n",
    "# qdess_moving_reg.save(moving_img_save_path, save_custom=True, image_data_format=ImageDataFormat.nifti)"
   ]
  },
  {
   "cell_type": "code",
   "execution_count": null,
   "metadata": {},
   "outputs": [],
   "source": [
    "qdess_moving_reornt.save(moving_img_reornt_path, save_custom=True, image_data_format=ImageDataFormat.nifti)\n"
   ]
  },
  {
   "cell_type": "code",
   "execution_count": null,
   "metadata": {},
   "outputs": [],
   "source": [
    "qdess_moving_echo1_reornt.affine"
   ]
  },
  {
   "cell_type": "code",
   "execution_count": null,
   "metadata": {},
   "outputs": [],
   "source": [
    "# gather the registration parameters\n",
    "registration_parameters = output[\"outputs\"][0]\n",
    "registered_mask_1 = output['volume'][0]\n",
    "# registered_mask_1.save_volume(seg_reg_SDF_save_path)\n",
    "\n",
    "# Warp the Qdess scan using the registration parametrs obtained in the mask registration\n",
    "reg_echo1 = dm.apply_warp(qdess_moving_echo1_reornt_mv, out_registration=registration_parameters)\n",
    "reg_echo2 = dm.apply_warp(qdess_moving_echo2_reornt_mv, out_registration=registration_parameters)\n",
    "\n",
    "# Recontrust the qdess scans from the registered qdess echos\n",
    "qdess_moving_reg = QDess([reg_echo1, reg_echo2]) # make a qdess \\  \n",
    "\n",
    "# save qdess scans\n",
    "print(f'Saving registered qdess files for {os.path.basename(moving_img_path)}')\n",
    "qdess_moving_reg.save(moving_img_save_path, save_custom=True, image_data_format=ImageDataFormat.nifti)\n",
    "\n",
    "reg_check_path = os.path.join(reg_path, f'registration_check')\n",
    "\n",
    "if not os.path.exists(reg_check_path):\n",
    "    os.makedirs(reg_check_path)             \n",
    "\n",
    "# Plot and save registrations for checking\n",
    "n= 30\n",
    "_, axes = plt.subplots(nrows=1, ncols=2, figsize=(20,20), constrained_layout=False)\n",
    "axes[0].imshow(qdess_fixed.volumes[0].A[:,:,n], cmap='gray', alpha=1)\n",
    "axes[0].imshow(qdess_moving_reg.volumes[0].A[:,:,n], cmap=\"Blues\", alpha= 0.7)\n",
    "axes[1].imshow(qdess_moving_reg.volumes[0].A[:,:,n], cmap='gray', alpha=1)\n",
    "axes[1].imshow(seg_fixed.A[:,:,n], cmap=\"Blues\", alpha=0.7)\n",
    "axes[0].set_title(\"Fixed vs Moving Qdess Scan\", fontsize=12)\n",
    "axes[1].set_title(\"Fixed Mask on Moving Qdess Scan\", fontsize=12)\n",
    "\n",
    "plt_save_path= os.path.join(reg_check_path, f'{moving_img_path.split(os.sep)[-2]}_slice{n}.jpg')\n",
    "plt.savefig(plt_save_path)\n"
   ]
  },
  {
   "cell_type": "code",
   "execution_count": null,
   "metadata": {},
   "outputs": [],
   "source": [
    "data= QDess.load(moving_img_save_path)  # Load the registered QDess scan\n",
    "affine= data.volumes[1].affine\n",
    "\n",
    "U, _, Vt = np.linalg.svd(affine[:3, :3], full_matrices=False)\n",
    "orthonormal_affine = np.dot(U, Vt)\n",
    "orthonormal_affine\n",
    "orthonormal_affine"
   ]
  },
  {
   "cell_type": "code",
   "execution_count": null,
   "metadata": {},
   "outputs": [],
   "source": [
    "data= QDess.load(fixed_img_path)  # Load the registered QDess scan\n",
    "affine= data.volumes[1].affine\n",
    "\n",
    "U, _, Vt = np.linalg.svd(affine[:3, :3], full_matrices=False)\n",
    "orthonormal_affine = np.dot(U, Vt)\n",
    "orthonormal_affine"
   ]
  },
  {
   "cell_type": "code",
   "execution_count": null,
   "metadata": {},
   "outputs": [],
   "source": [
    "qdess_moving_reg.save(moving_img_save_path, save_custom=True, image_data_format=ImageDataFormat.nifti)\n"
   ]
  },
  {
   "cell_type": "code",
   "execution_count": null,
   "metadata": {},
   "outputs": [],
   "source": [
    "fig, ax= plt.subplots(1, 1, figsize=(10, 5))\n",
    "\n",
    "# plt.imshow(qdess_fixed_echo1.A[:, :, 50], cmap='gray')\n",
    "plt.imshow(reg_echo1.A[:, :, 40]) "
   ]
  },
  {
   "cell_type": "code",
   "execution_count": null,
   "metadata": {},
   "outputs": [],
   "source": [
    "np.unique(registered_mask_1.A)"
   ]
  },
  {
   "cell_type": "code",
   "execution_count": null,
   "metadata": {},
   "outputs": [],
   "source": [
    "plt.imshow(registered_mask_1.A[:, :, 40])"
   ]
  },
  {
   "cell_type": "code",
   "execution_count": null,
   "metadata": {},
   "outputs": [],
   "source": [
    "qdess_moving_echo1_reornt.affine"
   ]
  },
  {
   "cell_type": "code",
   "execution_count": null,
   "metadata": {},
   "outputs": [],
   "source": [
    "qdess_moving_reg.save(moving_img_save_path, save_custom=True)"
   ]
  },
  {
   "cell_type": "code",
   "execution_count": null,
   "metadata": {},
   "outputs": [],
   "source": [
    "qdess_fixed_echo1.affine, qdess_moving_echo1.affine, qdess_moving_echo1_reornt.affine, reg_echo1.affine"
   ]
  },
  {
   "cell_type": "code",
   "execution_count": null,
   "metadata": {},
   "outputs": [],
   "source": [
    "data_path= '/dataNAS/people/anoopai/DODGR/reg/registration_files/moving-0/TransformParameters.0.txt'\n",
    "\n",
    "# load data_path\n",
    "\n",
    "with open(data_path, 'rb') as f:\n",
    "    qdess_data = pickle.load(f)\n",
    "    \n",
    "qdess_data"
   ]
  },
  {
   "cell_type": "code",
   "execution_count": null,
   "metadata": {},
   "outputs": [],
   "source": [
    "data_path= '/dataNAS/people/anoopai/DODGR/DODGR_data/qdess_reornt/qdess.data'\n",
    "\n",
    "# load data_path\n",
    "\n",
    "with open(data_path, 'rb') as f:\n",
    "    qdess_data = pickle.load(f)\n",
    "    \n",
    "qdess_data"
   ]
  },
  {
   "cell_type": "code",
   "execution_count": null,
   "metadata": {},
   "outputs": [],
   "source": [
    "qdess_fixed_echo1.is_identical(qdess_moving_echo1_reornt_mv)\n",
    "\n",
    "qdess_moving_echo1_reornt.reformat_as(qdess_fixed_echo1)\n",
    "\n",
    "qdess_fixed_echo1.is_identical(qdess_moving_echo1_reornt_mv)\n",
    "# qdess_fixed_echo1.affine, qdess_moving_echo1_reornt_mv.affine\n",
    "\n",
    "qdess_fixed_echo1.is_same_dimensions(qdess_moving_echo1_reornt_mv)"
   ]
  },
  {
   "cell_type": "code",
   "execution_count": null,
   "metadata": {},
   "outputs": [],
   "source": [
    "qdess_fixed_echo1, qdess_moving_echo1, qdess_moving_echo1_reornt, qdess_moving_echo1_reornt_mv"
   ]
  },
  {
   "cell_type": "code",
   "execution_count": null,
   "metadata": {},
   "outputs": [],
   "source": [
    "qdess = QDess.load(moving_img_save_path)\n",
    "qdess.volumes[0]"
   ]
  },
  {
   "cell_type": "code",
   "execution_count": 14,
   "metadata": {},
   "outputs": [],
   "source": [
    "qdess_moving_echo1_flip= np.flip(qdess_moving_echo1.A, axis=1) "
   ]
  },
  {
   "cell_type": "code",
   "execution_count": null,
   "metadata": {},
   "outputs": [],
   "source": [
    "qdess_moving_echo1.affine, qdess_fixed_echo1.affine"
   ]
  },
  {
   "cell_type": "code",
   "execution_count": null,
   "metadata": {},
   "outputs": [],
   "source": [
    "fig, ax = plt.subplots(1, 1, figsize=(12, 6))\n",
    "plt.imshow(qdess_moving_echo1_reornt.A[:, :, 50], cmap='gray')\n",
    "plt.imshow(qdess_fixed_echo1.A[:, :, 50], cmap='Blues', alpha=0.5)"
   ]
  },
  {
   "cell_type": "code",
   "execution_count": 45,
   "metadata": {},
   "outputs": [],
   "source": [
    "import SimpleITK as sitk\n",
    "\n",
    "sitk.__version__\n",
    "g= sitk.ReadImage('/dataNAS/people/anoopai/DODGR/DODGR_data/DODGR007_anon/DODGR007_IDX_bsln_anon/segmentation_regToCl_fc_subregions.nii')"
   ]
  },
  {
   "cell_type": "code",
   "execution_count": null,
   "metadata": {},
   "outputs": [],
   "source": [
    "qdess_moving_echo1_reornt, qdess_moving_echo1_reornt.affine"
   ]
  },
  {
   "cell_type": "code",
   "execution_count": null,
   "metadata": {},
   "outputs": [],
   "source": [
    "qdess_fixed_echo1, qdess_fixed_echo1.affine"
   ]
  },
  {
   "cell_type": "code",
   "execution_count": null,
   "metadata": {},
   "outputs": [],
   "source": [
    "pl, ax= plt.subplots(1, 1, figsize=(10, 10))\n",
    "n=20\n",
    "plt.imshow(qdess_fixed_echo1.A[:,:,n], cmap='gray')\n",
    "# plt.imshow(qdess_moving_echo1_reornt.A[:,:,n], cmap='Reds', alpha=0.5)\n",
    "plt.imshow(qdess.volumes[0].A[:,:,n], cmap='Blues', alpha=0.4)\n"
   ]
  },
  {
   "cell_type": "code",
   "execution_count": 10,
   "metadata": {},
   "outputs": [],
   "source": [
    "# from utils.signed_maurer_distance_map_image_filter import signed_maurer_distance_map_image_filter\n",
    "\n",
    "# seg_signed_fixed= signed_maurer_distance_map_image_filter(seg_fixed.A)\n",
    "# seg_signed_fixed= seg_signed_fixed.astype(np.float64)\n",
    "# seg_signed_threshold_0= np.where(seg_signed_fixed > 5, 1, seg_signed_fixed)\n",
    "# seg_signed_mv_0 = dm.MedicalVolume(seg_signed_threshold_0, qdess_fixed_echo1.affine)\n",
    "\n",
    "# seg_signed_moving= signed_maurer_distance_map_image_filter(seg_moving_reornt.A)\n",
    "# seg_signed_moving= seg_signed_moving.astype(np.float64)\n",
    "# seg_signed_threshold_1= np.where(seg_signed_moving > 5, 1, seg_signed_moving)\n",
    "# seg_signed_mv_1 = dm.MedicalVolume(seg_signed_threshold_1, qdess_moving_echo1.affine)\n",
    "\n",
    "# # Registration\n",
    "# print(\"Starting Registration\")\n",
    "\n",
    "# output= dm.register(\n",
    "#     target=seg_signed_mv_0, \n",
    "#     moving=seg_signed_mv_1, \n",
    "#     parameters=elastix_file_path, \n",
    "#     output_path=output_path, \n",
    "#     return_volumes=True, \n",
    "#     num_workers= 50,\n",
    "#     num_threads= 50,\n",
    "#     show_pbar=True)\n",
    "\n",
    "# print(\"Registration completed\")\n",
    "\n",
    "# # gather the registration parameters\n",
    "# registration_parameters = output[\"outputs\"][0]\n",
    "# registered_mask_1 = output['volume'][0]\n",
    "# # registered_mask_1.save_volume(seg_reg_SDF_save_path)\n",
    "\n",
    "# # Warp the Qdess scan using the registration parametrs obtained in the mask registration\n",
    "# reg_echo1 = dm.apply_warp(qdess_moving_echo1_reornt, out_registration=registration_parameters)\n",
    "# reg_echo2 = dm.apply_warp(qdess_moving_echo2_reornt, out_registration=registration_parameters)\n",
    "\n",
    "# # Recontrust the qdess scans from the registered qdess echos\n",
    "# qdess_moving_reg = QDess([reg_echo1, reg_echo2]) # make a qdess \\\n",
    "\n",
    "# # save qdess scans\n",
    "# print(f'Saving registered qdess files for {os.path.basename(moving_img_path)}')\n",
    "# qdess_moving_reg.save(moving_img_save_path, save_custom=True, image_data_format=ImageDataFormat.nifti)"
   ]
  }
 ],
 "metadata": {
  "kernelspec": {
   "display_name": "dess",
   "language": "python",
   "name": "python3"
  },
  "language_info": {
   "codemirror_mode": {
    "name": "ipython",
    "version": 3
   },
   "file_extension": ".py",
   "mimetype": "text/x-python",
   "name": "python",
   "nbconvert_exporter": "python",
   "pygments_lexer": "ipython3",
   "version": "3.8.19"
  }
 },
 "nbformat": 4,
 "nbformat_minor": 2
}
