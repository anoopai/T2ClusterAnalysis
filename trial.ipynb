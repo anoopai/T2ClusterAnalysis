{
 "cells": [
  {
   "cell_type": "code",
   "execution_count": 1,
   "metadata": {},
   "outputs": [
    {
     "name": "stderr",
     "output_type": "stream",
     "text": [
      "2025-01-13 15:04:53.644036: I tensorflow/core/platform/cpu_feature_guard.cc:182] This TensorFlow binary is optimized to use available CPU instructions in performance-critical operations.\n",
      "To enable the following instructions: AVX2 FMA, in other operations, rebuild TensorFlow with the appropriate compiler flags.\n",
      "2025-01-13 15:04:55.442762: W tensorflow/compiler/tf2tensorrt/utils/py_utils.cc:38] TF-TRT Warning: Could not find TensorRT\n"
     ]
    }
   ],
   "source": [
    "%load_ext autoreload\n",
    "%autoreload 2\n",
    "\n",
    "import os\n",
    "import dosma as dm\n",
    "import nibabel as nib\n",
    "import matplotlib.pyplot as plt\n",
    "import numpy as np\n",
    "import subprocess\n",
    "import pickle\n",
    "import SimpleITK as sitk\n",
    "\n",
    "from dosma.scan_sequences import QDess\n",
    "from dosma import ImageDataFormat\n",
    "\n",
    "from utils.filter_qmaps import *\n",
    "from utils.difference_map_tissue import *\n",
    "from utils.apply_intensity_threshold import *\n",
    "from utils.apply_volume_threshold import *\n",
    "from utils.compute_t2 import *\n",
    "from utils.convert_qdess_dicom2nii import *\n",
    "from utils.sgd_based_registration import *\n",
    "from utils.sgd_based_qmap_registration import *\n",
    "from utils.dosma_segmentation import *\n",
    "from utils.compute_DSC import *\n",
    "from utils.compute_intensity_threshold import *\n",
    "from utils.compute_volume_threshold import * \n",
    "from utils.sgd_based_bilateral_qdess_registration import *\n",
    "\n",
    "import dosma as dm\n",
    "import os\n",
    "\n",
    "import numpy as np\n",
    "import matplotlib.pyplot as plt\n",
    "import sigpy as sp\n",
    "import traceback\n",
    "import copy\n",
    "import shutil\n",
    "from pathlib import Path\n",
    "\n",
    "from dosma import preferences\n",
    "from dosma.scan_sequences import QDess, CubeQuant, Cones\n",
    "from sigpy.plot import ImagePlot\n",
    "from dosma import ImageDataFormat\n",
    "from tkinter import font\n",
    "\n",
    "from utils.signed_maurer_distance_map_image_filter import signed_maurer_distance_map_image_filter"
   ]
  },
  {
   "cell_type": "code",
   "execution_count": 1,
   "metadata": {},
   "outputs": [],
   "source": [
    "import dosma as dm\n",
    "\n",
    "# print(mskt.__version__)"
   ]
  },
  {
   "cell_type": "code",
   "execution_count": 2,
   "metadata": {},
   "outputs": [
    {
     "name": "stdout",
     "output_type": "stream",
     "text": [
      "Elastix version information:\n",
      "elastix version: 4.900\n",
      "\n"
     ]
    }
   ],
   "source": [
    "os.environ['DIR']= '/dataNAS/people/anoopai/DODGR'\n",
    "os.environ['DATA_DICOM']= '/dataNAS/people/anoopai/DODGR/DODGR_data_dicom'\n",
    "os.environ['DATA']= '/dataNAS/people/anoopai/DODGR/DODGR_data'\n",
    "os.environ['FILES']= '/dataNAS/people/anoopai/DODGR/code/files'\n",
    "os.environ['REG']= '/dataNAS/people/anoopai/DODGR/reg'\n",
    "os.environ['RESULTS'] = '/dataNAS/people/anoopai/DODGR/results'\n",
    "\n",
    "# Change working directory to the directory containing data\n",
    "dir_path = os.environ['DIR']\n",
    "dicom_data_path = os.environ['DATA_DICOM']\n",
    "data_path = os.environ['DATA']\n",
    "files_path = os.environ['FILES']\n",
    "reg_path = os.environ['REG']\n",
    "results_path = os.environ['RESULTS']\n",
    "\n",
    "# Set elastix environment variables\n",
    "elastix_folder = '/dataNAS/people/anoopai/elastix'\n",
    "os.environ['PATH'] = f\"{elastix_folder}/bin:{os.environ['PATH']}\"\n",
    "if 'LD_LIBRARY_PATH' in os.environ:\n",
    "    os.environ['LD_LIBRARY_PATH'] = f\"{elastix_folder}/lib:{os.environ['LD_LIBRARY_PATH']}\"\n",
    "else:\n",
    "    os.environ['LD_LIBRARY_PATH'] = f\"{elastix_folder}/lib\"\n",
    "\n",
    "#!elastix --version\n",
    "try:\n",
    "    version_output = subprocess.check_output(['elastix', '--version'], stderr=subprocess.STDOUT, text=True)\n",
    "    print(\"Elastix version information:\")\n",
    "    print(version_output)\n",
    "except subprocess.CalledProcessError as e:\n",
    "    print(\"Error running elastix --version:\")\n",
    "    print(e.output)"
   ]
  },
  {
   "cell_type": "markdown",
   "metadata": {},
   "source": [
    "# Flip all the CL knees as IDX knee"
   ]
  },
  {
   "cell_type": "code",
   "execution_count": 3,
   "metadata": {},
   "outputs": [],
   "source": [
    "# elastix_file_path = os.path.join(files_path, 'elastic_parameters/elastix_registration_parameters_SDF_mask.txt')\n",
    "\n",
    "# # idensify baseline and follow-up scans for ACLR and contralateral legs\n",
    "# for sub_dir in os.listdir(data_path):\n",
    "#     sub_dir_path = os.path.join(data_path, sub_dir)\n",
    "    \n",
    "#     bsln_dirs= [dir for dir in os.listdir(sub_dir_path) if 'bsln' in dir]\n",
    "#     fup_dirs= [dir for dir in os.listdir(sub_dir_path) if '6mo' in dir]\n",
    "    \n",
    "#     visit_dirs = [bsln_dirs, fup_dirs]\n",
    "    \n",
    "#     for visit_dir in visit_dirs:\n",
    "#         print(visit_dir)\n",
    "#         for knee_dir in visit_dir:\n",
    "#             print(knee_dir)\n",
    "#             if 'IDX' in knee_dir:\n",
    "#                 IDX_dir_path = os.path.join(sub_dir_path, knee_dir)\n",
    "#             elif 'CL' in knee_dir:\n",
    "#                 CL_dir_path = os.path.join(sub_dir_path, knee_dir)   \n",
    "                \n",
    "#         IDX_qdess_path = os.path.join(IDX_dir_path, 'qdess')\n",
    "#         IDX_seg_path = os.path.join(IDX_dir_path, 'segmentation_fc.nii')\n",
    "#         IDX_qdess_reg_path = os.path.join(IDX_dir_path, 'qdess_regToCl')\n",
    "        \n",
    "#         CL_qdess_path = os.path.join(CL_dir_path, 'qdess')\n",
    "#         CL_seg_path = os.path.join(CL_dir_path, 'segmentation_fc.nii')\n",
    "        \n",
    "#         knee= knee_dir.split('_')[1]\n",
    "#         sub = knee_dir.split('_')[0]\n",
    "#         visit= knee_dir.split('_')[2]\n",
    "        \n",
    "#         if not os.path.exists(IDX_qdess_reg_path):\n",
    "        \n",
    "#             print(f'Registering IDX to CL for {visit} leg of {sub}')\n",
    "            \n",
    "#             sgd_based_bilateral_qdess_registration(\n",
    "#             fixed_img_path = CL_qdess_path,\n",
    "#             moving_img_path = IDX_qdess_path,\n",
    "#             moving_img_save_path = IDX_qdess_reg_path,\n",
    "#             fixed_mask_path = CL_seg_path,\n",
    "#             moving_mask_path = IDX_seg_path,\n",
    "#             elastix_file_path = elastix_file_path,\n",
    "#             reg_path = reg_path,  \n",
    "#             reg_check = True  # if True, it will save the a jpg pciture of a random slice (n) of the segmentation mask of the fixed image overlayed on the registered moving image)\n",
    "#             ) "
   ]
  },
  {
   "cell_type": "code",
   "execution_count": 32,
   "metadata": {},
   "outputs": [],
   "source": [
    "elastix_file_path = os.path.join(files_path, 'elastic_parameters/elastix_registration_parameters_SDF_mask.txt')\n",
    "\n",
    "elastix_file_path = os.path.join(files_path, 'elastic_parameters/elastix_registration_parameters_SDF_mask.txt')\n",
    "moving_img_path= '/dataNAS/people/anoopai/DODGR/DODGR_data/DODGR023_anon/DODGR023_IDX_6mo_anon/qdess'\n",
    "moving_mask_path = '/dataNAS/people/anoopai/DODGR/DODGR_data/DODGR023_anon/DODGR023_IDX_6mo_anon/segmentation_fc.nii'\n",
    "fixed_img_path = '/dataNAS/people/anoopai/DODGR/DODGR_data/DODGR023_anon/DODGR023_CL_6mo_anon/qdess'\n",
    "fixed_mask_path = '/dataNAS/people/anoopai/DODGR/DODGR_data/DODGR023_anon/DODGR023_CL_6mo_anon/segmentation_fc.nii'\n",
    "moving_img_save_path = '/dataNAS/people/anoopai/DODGR/DODGR_data/qdess_reg2CL'\n",
    "moving_img_reornt_path = '/dataNAS/people/anoopai/DODGR/DODGR_data/qdess_reornt'\n",
    "seg_reg_SDF_save_path = '/dataNAS/people/anoopai/DODGR/DODGR_data/seg_reg_SDF.nii'\n",
    "moving_img_save_echo1_path='/dataNAS/people/anoopai/DODGR/DODGR_data/qdess_reg2CL_echo1.nii'"
   ]
  },
  {
   "cell_type": "code",
   "execution_count": 4,
   "metadata": {},
   "outputs": [
    {
     "name": "stderr",
     "output_type": "stream",
     "text": [
      "100%|██████████| 1/1 [02:20<00:00, 140.95s/it]\n"
     ]
    },
    {
     "name": "stdout",
     "output_type": "stream",
     "text": [
      "Registration completed\n",
      "Saving registered qdess files for qdess\n"
     ]
    },
    {
     "data": {
      "text/plain": [
       "'/dataNAS/people/anoopai/DODGR/DODGR_data/qdess_reg2CL/qdess.data'"
      ]
     },
     "execution_count": 4,
     "metadata": {},
     "output_type": "execute_result"
    }
   ],
   "source": [
    "output_path= os.path.join(reg_path, f'registration_files')\n",
    "\n",
    "shutil.rmtree(output_path, ignore_errors=True)\n",
    "\n",
    "if not os.path.exists(output_path):\n",
    "    os.makedirs(output_path)\n",
    "\n",
    "# Delete anything in the output directory.\n",
    "# This is to make sure there aren't any lingering files that cause the run to succeed sometimes.\n",
    "shutil.rmtree(moving_img_save_path, ignore_errors=True)\n",
    "\n",
    "# Load qdess scan\n",
    "qdess_fixed = QDess.load(fixed_img_path)\n",
    "qdess_moving = QDess.load(moving_img_path)\n",
    "\n",
    "# Get echos of the qdess\n",
    "qdess_fixed_echo1 = qdess_fixed.volumes[0]\n",
    "qdess_fixed_echo2 = qdess_fixed.volumes[1]  \n",
    "qdess_moving_echo1 = qdess_moving.volumes[0]\n",
    "qdess_moving_echo2 = qdess_moving.volumes[1]\n",
    "\n",
    "# reformat the medical volumes (so that both legs are either right or left side)\n",
    "qdess_fixed_ornt = qdess_fixed_echo1.orientation\n",
    "\n",
    "# Flip the orientation of the moving qdess scans\n",
    "flipped_ornt= tuple('LR' if x == 'RL' else 'RL' if x == 'LR' else x for x in qdess_fixed_ornt)\n",
    "\n",
    "# Reformat the moving qdess scans\n",
    "qdess_moving_echo1_reornt= qdess_moving_echo1.reformat(flipped_ornt)\n",
    "qdess_moving_echo2_reornt= qdess_moving_echo2.reformat(flipped_ornt)\n",
    "qdess_moving_echo1_reornt_mv= dm.MedicalVolume(qdess_moving_echo1_reornt.A, qdess_fixed_echo1.affine)\n",
    "qdess_moving_echo2_reornt_mv= dm.MedicalVolume(qdess_moving_echo2_reornt.A, qdess_fixed_echo2.affine)\n",
    "\n",
    "# load the segmentation for femoral cartilage\n",
    "reader = dm.NiftiReader()\n",
    "seg_fixed = reader.load(fixed_mask_path)\n",
    "seg_moving = reader.load(moving_mask_path)\n",
    "seg_moving_reornt = seg_moving.reformat(flipped_ornt)\n",
    "seg_moving_reornt_mv= dm.MedicalVolume(seg_moving_reornt.A, seg_fixed.affine)  \n",
    "\n",
    "# Combine to form a Qdess Scan\n",
    "qdess_moving_reornt = QDess([qdess_moving_echo1_reornt_mv, qdess_moving_echo1_reornt_mv])\n",
    "qdess_moving_reornt.save(moving_img_reornt_path, save_custom=True, image_data_format=ImageDataFormat.nifti)\n",
    "\n",
    "seg_fixed_binary= np.where(seg_fixed.A > 0, 1, seg_fixed.A)\n",
    "seg_moving_binary= np.where(seg_moving_reornt_mv.A > 0, 1, seg_moving_reornt_mv.A)\n",
    "\n",
    "seg_signed_fixed= signed_maurer_distance_map_image_filter(seg_fixed_binary)\n",
    "seg_signed_fixed= seg_signed_fixed.astype(np.float64)\n",
    "seg_signed_threshold_0= np.where(seg_signed_fixed > 5, 1, seg_signed_fixed)\n",
    "seg_signed_mv_0 = dm.MedicalVolume(seg_signed_threshold_0, seg_fixed.affine)\n",
    "\n",
    "seg_signed_moving= signed_maurer_distance_map_image_filter(seg_moving_binary)\n",
    "seg_signed_moving= seg_signed_moving.astype(np.float64)\n",
    "seg_signed_threshold_1= np.where(seg_signed_moving > 5, 1, seg_signed_moving)\n",
    "seg_signed_mv_1 = dm.MedicalVolume(seg_signed_threshold_1, seg_moving_reornt_mv.affine)\n",
    "\n",
    "# Registration\n",
    "# print(\"Starting Registration\")\n",
    "\n",
    "output= dm.register(\n",
    "    target=seg_signed_mv_0, \n",
    "    moving=seg_signed_mv_1, \n",
    "    parameters=elastix_file_path, \n",
    "    output_path=output_path, \n",
    "    return_volumes=True, \n",
    "    num_workers= 50,\n",
    "    num_threads= 50,\n",
    "    show_pbar=True)\n",
    "\n",
    "print(\"Registration completed\")\n",
    "\n",
    "# gather the registration parameters\n",
    "registration_parameters = output[\"outputs\"][0]\n",
    "registered_mask_1 = output['volume'][0]\n",
    "# registered_mask_1.save_volume(seg_reg_SDF_save_path)\n",
    "\n",
    "# Warp the Qdess scan using the registration parametrs obtained in the mask registration\n",
    "reg_echo1 = dm.apply_warp(qdess_moving_echo1_reornt_mv, out_registration=registration_parameters)\n",
    "reg_echo2 = dm.apply_warp(qdess_moving_echo2_reornt_mv, out_registration=registration_parameters)\n",
    "\n",
    "# Recontrust the qdess scans from the registered qdess echos\n",
    "qdess_moving_reg = QDess([reg_echo1, reg_echo2]) # make a qdess \\  \n",
    "\n",
    "# save qdess scans\n",
    "print(f'Saving registered qdess files for {os.path.basename(moving_img_path)}')\n",
    "qdess_moving_reg.save(moving_img_save_path, save_custom=True, image_data_format=ImageDataFormat.nifti)\n",
    "\n",
    "\n",
    "nib_reg_echo1 = nib.Nifti1Image(reg_echo1.A, reg_echo1.affine)\n",
    "moving_img_save_echo1_path= os.path.join(moving_img_save_path, 'volumes/echo1.nii.gz')\n",
    "nib_reg_echo2 = nib.Nifti1Image(reg_echo2.A, reg_echo2.affine)\n",
    "moving_img_save_echo2_path= os.path.join(moving_img_save_path, 'volumes/echo2.nii.gz')\n",
    "\n",
    "\n",
    "nib.save(nib_reg_echo1, moving_img_save_echo1_path)\n",
    "\n",
    "print(\"Done\")"
   ]
  },
  {
   "cell_type": "code",
   "execution_count": 52,
   "metadata": {},
   "outputs": [],
   "source": [
    "nib_reg_echo1 = nib.Nifti1Image(reg_echo1.A, reg_echo1.affine)\n",
    "moving_img_save_echo1_path= os.path.join(moving_img_save_path, 'volumes/echo1.nii.gz')\n",
    "nib\n",
    "nib_reg_echo2 = nib.Nifti1Image(reg_echo2.A, reg_echo2.affine)\n",
    "moving_img_save_echo2_path= os.path.join(moving_img_save_path, 'volumes/echo2.nii.gz')"
   ]
  },
  {
   "cell_type": "code",
   "execution_count": 56,
   "metadata": {},
   "outputs": [
    {
     "name": "stdout",
     "output_type": "stream",
     "text": [
      "Saving registered qdess files for qdess\n"
     ]
    },
    {
     "data": {
      "text/plain": [
       "'/dataNAS/people/anoopai/DODGR/DODGR_data/qdess_reg2CL2/qdess.data'"
      ]
     },
     "execution_count": 56,
     "metadata": {},
     "output_type": "execute_result"
    }
   ],
   "source": [
    "reg_echo1_mv = dm.MedicalVolume(reg_echo1.A, reg_echo1.affine)\n",
    "reg_echo2_mv = dm.MedicalVolume(reg_echo2.A, reg_echo2.affine)\n",
    "\n",
    "qdess_moving_reg = QDess([reg_echo1_mv, reg_echo2_mv]) # make a qdess \\  \n",
    "\n",
    "moving_img_save_path_2 = '/dataNAS/people/anoopai/DODGR/DODGR_data/qdess_reg2CL2'\n",
    "\n",
    "# save qdess scans\n",
    "print(f'Saving registered qdess files for {os.path.basename(moving_img_path)}')\n",
    "qdess_moving_reg.save(moving_img_save_path_2, save_custom=True, image_data_format=ImageDataFormat.nifti)\n"
   ]
  },
  {
   "cell_type": "code",
   "execution_count": null,
   "metadata": {},
   "outputs": [],
   "source": [
    "reg_echo1.save_volume(moving_img_save_echo1_path)"
   ]
  },
  {
   "cell_type": "code",
   "execution_count": 29,
   "metadata": {},
   "outputs": [
    {
     "name": "stdout",
     "output_type": "stream",
     "text": [
      "(0.030301224951778512, -0.028999403198423205, -0.9991230290976285, 0.9995404072377104, -0.0, 0.03026635452127333, -0.0009000363847062924, -0.9995794288670287, 0.028933034938838382)\n",
      "(-54.3395, -93.0797, 72.1025)\n",
      "(0.31248736693214896, 0.3125064311838238, 1.500015469920227)\n"
     ]
    }
   ],
   "source": [
    "qdess_sitk= qdess_fixed_echo1.to_sitk()\n",
    "\n",
    "data= sitk.GetArrayFromImage(qdess_sitk)\n",
    "print(qdess_sitk.GetDirection())\n",
    "print(qdess_sitk.GetOrigin())\n",
    "print(qdess_sitk.GetSpacing())"
   ]
  },
  {
   "cell_type": "code",
   "execution_count": 28,
   "metadata": {},
   "outputs": [
    {
     "name": "stdout",
     "output_type": "stream",
     "text": [
      "(-0.20689506974923114, 0.09179794007733674, -0.9740477789810817, 0.978176690327201, -0.0, -0.20779597064431124, -0.0190995448632688, -0.9957776550001299, -0.0897315933549063)\n",
      "(153.98, -84.3011, 84.6553)\n",
      "(0.31250744678627257, 0.3125070124213215, 1.5000290863846608)\n"
     ]
    }
   ],
   "source": [
    "qdess_sitk= qdess_moving_echo1.to_sitk()\n",
    "\n",
    "data= sitk.GetArrayFromImage(qdess_sitk)\n",
    "print(qdess_sitk.GetDirection())\n",
    "print(qdess_sitk.GetOrigin())\n",
    "print(qdess_sitk.GetSpacing())"
   ]
  },
  {
   "cell_type": "code",
   "execution_count": 26,
   "metadata": {},
   "outputs": [
    {
     "name": "stdout",
     "output_type": "stream",
     "text": [
      "(-0.20689506974923114, 0.09179794007733674, -0.9740477789810817, 0.978176690327201, -0.0, -0.20779597064431124, -0.0190995448632688, -0.9957776550001299, -0.0897315933549063)\n",
      "(153.98, -84.3011, 84.6553)\n",
      "(0.31250744678627257, 0.3125070124213215, 1.5000290863846608)\n"
     ]
    }
   ],
   "source": [
    "qdess_sitk= qdess_moving_echo1_reornt.to_sitk()\n",
    "\n",
    "data= sitk.GetArrayFromImage(qdess_sitk)\n",
    "print(qdess_sitk.GetDirection())\n",
    "print(qdess_sitk.GetOrigin())\n",
    "print(qdess_sitk.GetSpacing())"
   ]
  },
  {
   "cell_type": "code",
   "execution_count": 31,
   "metadata": {},
   "outputs": [
    {
     "name": "stdout",
     "output_type": "stream",
     "text": [
      "(0.030301224951778512, -0.028999403198423205, -0.9991230290976285, 0.9995404072377104, -0.0, 0.03026635452127333, -0.0009000363847062924, -0.9995794288670287, 0.028933034938838382)\n",
      "(-54.3395, -93.0797, 72.1025)\n",
      "(0.31248736693214896, 0.3125064311838238, 1.500015469920227)\n"
     ]
    }
   ],
   "source": [
    "qdess_sitk= qdess_moving_echo1_reornt_mv.to_sitk()\n",
    "\n",
    "data= sitk.GetArrayFromImage(qdess_sitk)\n",
    "print(qdess_sitk.GetDirection())\n",
    "print(qdess_sitk.GetOrigin())\n",
    "print(qdess_sitk.GetSpacing())"
   ]
  },
  {
   "cell_type": "code",
   "execution_count": 49,
   "metadata": {},
   "outputs": [
    {
     "name": "stdout",
     "output_type": "stream",
     "text": [
      "[[ 3.04053900e-02 -2.91169709e-02 -9.99119082e-01]\n",
      " [ 9.99537188e-01 -0.00000000e+00  3.03329007e-02]\n",
      " [-9.60170209e-04 -9.99576011e-01  2.89995863e-02]]\n",
      "(-54.3395, -93.0876, 72.0946)\n",
      "(0.3124446030898918, 0.3125325103089277, 1.500021396514063)\n"
     ]
    }
   ],
   "source": [
    "qdess_sitk= reg_echo1.to_sitk()\n",
    "\n",
    "data= sitk.GetArrayFromImage(qdess_sitk)\n",
    "affine_matrix= qdess_sitk.GetDirection()\n",
    "print(np.array(affine_matrix).reshape(3, 3))\n",
    "print(qdess_sitk.GetOrigin())\n",
    "print(qdess_sitk.GetSpacing())"
   ]
  },
  {
   "cell_type": "code",
   "execution_count": 35,
   "metadata": {},
   "outputs": [
    {
     "name": "stderr",
     "output_type": "stream",
     "text": [
      "WARNING: In /tmp/SimpleITK-build/ITK/Modules/IO/NIFTI/src/itkNiftiImageIO.cxx, line 2303\n",
      "NiftiImageIO (0x6ac71c0): Non-orthogonal direction matrix coerced to orthogonal\n",
      "\n"
     ]
    }
   ],
   "source": [
    "sitk.WriteImage(qdess_sitk, moving_img_save_echo1_path)"
   ]
  },
  {
   "cell_type": "code",
   "execution_count": 21,
   "metadata": {},
   "outputs": [
    {
     "data": {
      "text/plain": [
       "(MedicalVolume(\n",
       "   shape=(80, 512, 512),\n",
       "   ornt=('LR', 'SI', 'AP')),\n",
       "   spacing=(1.500015469920227, 0.3125064311838238, 0.31248736693214896),\n",
       "   origin=(54.3395, 93.0797, 72.1025),\n",
       "   device=Device(type='cpu')\n",
       " ),\n",
       " MedicalVolume(\n",
       "   shape=(80, 512, 512),\n",
       "   ornt=('LR', 'SI', 'AP')),\n",
       "   spacing=(1.5000290863846608, 0.3125070124213215, 0.31250744678627257),\n",
       "   origin=(-153.98, 84.3011, 84.6553),\n",
       "   device=Device(type='cpu')\n",
       " ),\n",
       " MedicalVolume(\n",
       "   shape=(80, 512, 512),\n",
       "   ornt=('LR', 'SI', 'AP')),\n",
       "   spacing=(1.500015469920227, 0.3125064311838238, 0.31248736693214896),\n",
       "   origin=(54.3395, 93.0797, 72.1025),\n",
       "   device=Device(type='cpu')\n",
       " ),\n",
       " MedicalVolume(\n",
       "   shape=(80, 512, 512),\n",
       "   ornt=('LR', 'SI', 'AP')),\n",
       "   spacing=(1.500021396514063, 0.3125325103089277, 0.3124446030898918),\n",
       "   origin=(54.3395, 93.0876, 72.0946),\n",
       "   device=Device(type='cpu')\n",
       " ))"
      ]
     },
     "execution_count": 21,
     "metadata": {},
     "output_type": "execute_result"
    }
   ],
   "source": [
    "qdess_fixed_echo1, qdess_moving_echo1_reornt, qdess_moving_echo1_reornt_mv, reg_echo1"
   ]
  },
  {
   "cell_type": "code",
   "execution_count": 22,
   "metadata": {},
   "outputs": [
    {
     "data": {
      "text/plain": [
       "(array([[ 1.4987000e+00,  9.0625000e-03, -9.4687500e-03,  5.4339500e+01],\n",
       "        [-4.5400000e-02,  0.0000000e+00, -3.1234375e-01,  9.3079700e+01],\n",
       "        [ 4.3400000e-02, -3.1237500e-01, -2.8125000e-04,  7.2102500e+01],\n",
       "        [ 0.0000000e+00,  0.0000000e+00,  0.0000000e+00,  1.0000000e+00]]),\n",
       " array([[ 1.461100e+00, -2.868750e-02,  6.465625e-02, -1.539800e+02],\n",
       "        [ 3.117000e-01,  0.000000e+00, -3.056875e-01,  8.430110e+01],\n",
       "        [-1.346000e-01, -3.111875e-01, -5.968750e-03,  8.465530e+01],\n",
       "        [ 0.000000e+00,  0.000000e+00,  0.000000e+00,  1.000000e+00]]),\n",
       " array([[ 1.4987000e+00,  9.0625000e-03, -9.4687500e-03,  5.4339500e+01],\n",
       "        [-4.5400000e-02,  0.0000000e+00, -3.1234375e-01,  9.3079700e+01],\n",
       "        [ 4.3400000e-02, -3.1237500e-01, -2.8125000e-04,  7.2102500e+01],\n",
       "        [ 0.0000000e+00,  0.0000000e+00,  0.0000000e+00,  1.0000000e+00]]),\n",
       " array([[ 1.49870e+00,  9.10000e-03, -9.50000e-03,  5.43395e+01],\n",
       "        [-4.55000e-02,  0.00000e+00, -3.12300e-01,  9.30876e+01],\n",
       "        [ 4.35000e-02, -3.12400e-01, -3.00000e-04,  7.20946e+01],\n",
       "        [ 0.00000e+00,  0.00000e+00,  0.00000e+00,  1.00000e+00]]))"
      ]
     },
     "execution_count": 22,
     "metadata": {},
     "output_type": "execute_result"
    }
   ],
   "source": [
    "qdess_fixed_echo1.affine, qdess_moving_echo1_reornt.affine, qdess_moving_echo1_reornt_mv.affine, reg_echo1.affine"
   ]
  },
  {
   "cell_type": "code",
   "execution_count": null,
   "metadata": {},
   "outputs": [],
   "source": [
    "seg_moving_reornt_mv.affine,  qdess_moving_echo2_reornt_mv.affine"
   ]
  },
  {
   "cell_type": "code",
   "execution_count": null,
   "metadata": {},
   "outputs": [],
   "source": []
  },
  {
   "cell_type": "code",
   "execution_count": null,
   "metadata": {},
   "outputs": [],
   "source": [
    "qdess_moving_reornt.save(moving_img_reornt_path, save_custom=True, image_data_format=ImageDataFormat.nifti)\n"
   ]
  },
  {
   "cell_type": "code",
   "execution_count": 51,
   "metadata": {},
   "outputs": [
    {
     "name": "stdout",
     "output_type": "stream",
     "text": [
      "Dot product of column 0 and 1 (should be 0): 7.445025389546682e-05\n",
      "Dot product of column 0 and 2 (should be 0): -8.758761084072306e-05\n",
      "Dot product of column 1 and 2 (should be 0): 0.00010403035999833471\n",
      "Length of column 0 (should be 1): 1.0\n",
      "Length of column 1 (should be 1): 1.0\n",
      "Length of column 2 (should be 1): 1.0\n"
     ]
    }
   ],
   "source": [
    "# affine_matrix= qdess_moving_reornt.volumes[0].affine\n",
    "\n",
    "# Extract the rotation matrix (the first 3x3 part of the affine matrix)\n",
    "rotation_matrix = np.array(affine_matrix).reshape(3, 3)\n",
    "\n",
    "# Check orthogonality: dot product of different vectors should be zero\n",
    "dot_product_01 = np.dot(rotation_matrix[:, 0], rotation_matrix[:, 1])\n",
    "dot_product_02 = np.dot(rotation_matrix[:, 0], rotation_matrix[:, 2])\n",
    "dot_product_12 = np.dot(rotation_matrix[:, 1], rotation_matrix[:, 2])\n",
    "\n",
    "# Check unit length: the magnitude of each vector should be 1\n",
    "length_0 = np.linalg.norm(rotation_matrix[:, 0])\n",
    "length_1 = np.linalg.norm(rotation_matrix[:, 1])\n",
    "length_2 = np.linalg.norm(rotation_matrix[:, 2])\n",
    "\n",
    "# Print results\n",
    "print(\"Dot product of column 0 and 1 (should be 0):\", dot_product_01)\n",
    "print(\"Dot product of column 0 and 2 (should be 0):\", dot_product_02)\n",
    "print(\"Dot product of column 1 and 2 (should be 0):\", dot_product_12)\n",
    "print(\"Length of column 0 (should be 1):\", length_0)\n",
    "print(\"Length of column 1 (should be 1):\", length_1)\n",
    "print(\"Length of column 2 (should be 1):\", length_2)\n"
   ]
  },
  {
   "cell_type": "code",
   "execution_count": 46,
   "metadata": {},
   "outputs": [
    {
     "data": {
      "text/plain": [
       "(4, 4)"
      ]
     },
     "execution_count": 46,
     "metadata": {},
     "output_type": "execute_result"
    }
   ],
   "source": [
    "rotation_matrix.shape"
   ]
  },
  {
   "cell_type": "code",
   "execution_count": 50,
   "metadata": {},
   "outputs": [
    {
     "data": {
      "text/plain": [
       "(0.03040538996689536,\n",
       " -0.029116970874501862,\n",
       " -0.9991190815563472,\n",
       " 0.9995371880696234,\n",
       " -0.0,\n",
       " 0.03033290065444305,\n",
       " -0.0009601702094809061,\n",
       " -0.9995760111202616,\n",
       " 0.028999586339962035)"
      ]
     },
     "execution_count": 50,
     "metadata": {},
     "output_type": "execute_result"
    }
   ],
   "source": [
    "affine_matrix"
   ]
  },
  {
   "cell_type": "code",
   "execution_count": null,
   "metadata": {},
   "outputs": [],
   "source": [
    "# gather the registration parameters\n",
    "registration_parameters = output[\"outputs\"][0]\n",
    "registered_mask_1 = output['volume'][0]\n",
    "# registered_mask_1.save_volume(seg_reg_SDF_save_path)\n",
    "\n",
    "# Warp the Qdess scan using the registration parametrs obtained in the mask registration\n",
    "reg_echo1 = dm.apply_warp(qdess_moving_echo1_reornt_mv, out_registration=registration_parameters)\n",
    "reg_echo2 = dm.apply_warp(qdess_moving_echo2_reornt_mv, out_registration=registration_parameters)\n",
    "\n",
    "# Recontrust the qdess scans from the registered qdess echos\n",
    "qdess_moving_reg = QDess([reg_echo1, reg_echo2]) # make a qdess \\  \n",
    "\n",
    "# save qdess scans\n",
    "print(f'Saving registered qdess files for {os.path.basename(moving_img_path)}')\n",
    "qdess_moving_reg.save(moving_img_save_path, save_custom=True, image_data_format=ImageDataFormat.nifti)\n",
    "\n",
    "reg_check_path = os.path.join(reg_path, f'registration_check')\n",
    "\n",
    "if not os.path.exists(reg_check_path):\n",
    "    os.makedirs(reg_check_path)             \n",
    "\n",
    "# Plot and save registrations for checking\n",
    "n= 30\n",
    "_, axes = plt.subplots(nrows=1, ncols=2, figsize=(20,20), constrained_layout=False)\n",
    "axes[0].imshow(qdess_fixed.volumes[0].A[:,:,n], cmap='gray', alpha=1)\n",
    "axes[0].imshow(qdess_moving_reg.volumes[0].A[:,:,n], cmap=\"Blues\", alpha= 0.7)\n",
    "axes[1].imshow(qdess_moving_reg.volumes[0].A[:,:,n], cmap='gray', alpha=1)\n",
    "axes[1].imshow(seg_fixed.A[:,:,n], cmap=\"Blues\", alpha=0.7)\n",
    "axes[0].set_title(\"Fixed vs Moving Qdess Scan\", fontsize=12)\n",
    "axes[1].set_title(\"Fixed Mask on Moving Qdess Scan\", fontsize=12)\n",
    "\n",
    "plt_save_path= os.path.join(reg_check_path, f'{moving_img_path.split(os.sep)[-2]}_slice{n}.jpg')\n",
    "plt.savefig(plt_save_path)\n"
   ]
  },
  {
   "cell_type": "code",
   "execution_count": null,
   "metadata": {},
   "outputs": [],
   "source": [
    "data= QDess.load(moving_img_save_path)  # Load the registered QDess scan\n",
    "affine= data.volumes[1].affine\n",
    "\n",
    "U, _, Vt = np.linalg.svd(affine[:3, :3], full_matrices=False)\n",
    "orthonormal_affine = np.dot(U, Vt)\n",
    "orthonormal_affine\n",
    "orthonormal_affine"
   ]
  },
  {
   "cell_type": "code",
   "execution_count": null,
   "metadata": {},
   "outputs": [],
   "source": [
    "data= QDess.load(fixed_img_path)  # Load the registered QDess scan\n",
    "affine= data.volumes[1].affine\n",
    "\n",
    "U, _, Vt = np.linalg.svd(affine[:3, :3], full_matrices=False)\n",
    "orthonormal_affine = np.dot(U, Vt)\n",
    "orthonormal_affine"
   ]
  },
  {
   "cell_type": "code",
   "execution_count": null,
   "metadata": {},
   "outputs": [],
   "source": [
    "qdess_moving_reg.save(moving_img_save_path, save_custom=True, image_data_format=ImageDataFormat.nifti)\n"
   ]
  },
  {
   "cell_type": "code",
   "execution_count": null,
   "metadata": {},
   "outputs": [],
   "source": [
    "fig, ax= plt.subplots(1, 1, figsize=(10, 5))\n",
    "\n",
    "# plt.imshow(qdess_fixed_echo1.A[:, :, 50], cmap='gray')\n",
    "plt.imshow(reg_echo1.A[:, :, 40]) "
   ]
  },
  {
   "cell_type": "code",
   "execution_count": null,
   "metadata": {},
   "outputs": [],
   "source": [
    "np.unique(registered_mask_1.A)"
   ]
  },
  {
   "cell_type": "code",
   "execution_count": null,
   "metadata": {},
   "outputs": [],
   "source": [
    "plt.imshow(registered_mask_1.A[:, :, 40])"
   ]
  },
  {
   "cell_type": "code",
   "execution_count": null,
   "metadata": {},
   "outputs": [],
   "source": [
    "qdess_moving_echo1_reornt.affine"
   ]
  },
  {
   "cell_type": "code",
   "execution_count": null,
   "metadata": {},
   "outputs": [],
   "source": [
    "qdess_moving_reg.save(moving_img_save_path, save_custom=True)"
   ]
  },
  {
   "cell_type": "code",
   "execution_count": null,
   "metadata": {},
   "outputs": [],
   "source": [
    "qdess_fixed_echo1.affine, qdess_moving_echo1.affine, qdess_moving_echo1_reornt.affine, reg_echo1.affine"
   ]
  },
  {
   "cell_type": "code",
   "execution_count": null,
   "metadata": {},
   "outputs": [],
   "source": [
    "data_path= '/dataNAS/people/anoopai/DODGR/reg/registration_files/moving-0/TransformParameters.0.txt'\n",
    "\n",
    "# load data_path\n",
    "\n",
    "with open(data_path, 'rb') as f:\n",
    "    qdess_data = pickle.load(f)\n",
    "    \n",
    "qdess_data"
   ]
  },
  {
   "cell_type": "code",
   "execution_count": null,
   "metadata": {},
   "outputs": [],
   "source": [
    "data_path= '/dataNAS/people/anoopai/DODGR/DODGR_data/qdess_reornt/qdess.data'\n",
    "\n",
    "# load data_path\n",
    "\n",
    "with open(data_path, 'rb') as f:\n",
    "    qdess_data = pickle.load(f)\n",
    "    \n",
    "qdess_data"
   ]
  },
  {
   "cell_type": "code",
   "execution_count": null,
   "metadata": {},
   "outputs": [],
   "source": [
    "qdess_fixed_echo1.is_identical(qdess_moving_echo1_reornt_mv)\n",
    "\n",
    "qdess_moving_echo1_reornt.reformat_as(qdess_fixed_echo1)\n",
    "\n",
    "qdess_fixed_echo1.is_identical(qdess_moving_echo1_reornt_mv)\n",
    "# qdess_fixed_echo1.affine, qdess_moving_echo1_reornt_mv.affine\n",
    "\n",
    "qdess_fixed_echo1.is_same_dimensions(qdess_moving_echo1_reornt_mv)"
   ]
  },
  {
   "cell_type": "code",
   "execution_count": null,
   "metadata": {},
   "outputs": [],
   "source": [
    "qdess_fixed_echo1, qdess_moving_echo1, qdess_moving_echo1_reornt, qdess_moving_echo1_reornt_mv"
   ]
  },
  {
   "cell_type": "code",
   "execution_count": null,
   "metadata": {},
   "outputs": [],
   "source": [
    "qdess = QDess.load(moving_img_save_path)\n",
    "qdess.volumes[0]"
   ]
  },
  {
   "cell_type": "code",
   "execution_count": 14,
   "metadata": {},
   "outputs": [],
   "source": [
    "qdess_moving_echo1_flip= np.flip(qdess_moving_echo1.A, axis=1) "
   ]
  },
  {
   "cell_type": "code",
   "execution_count": null,
   "metadata": {},
   "outputs": [],
   "source": [
    "qdess_moving_echo1.affine, qdess_fixed_echo1.affine"
   ]
  },
  {
   "cell_type": "code",
   "execution_count": null,
   "metadata": {},
   "outputs": [],
   "source": [
    "fig, ax = plt.subplots(1, 1, figsize=(12, 6))\n",
    "plt.imshow(qdess_moving_echo1_reornt.A[:, :, 50], cmap='gray')\n",
    "plt.imshow(qdess_fixed_echo1.A[:, :, 50], cmap='Blues', alpha=0.5)"
   ]
  },
  {
   "cell_type": "code",
   "execution_count": 45,
   "metadata": {},
   "outputs": [],
   "source": [
    "import SimpleITK as sitk\n",
    "\n",
    "sitk.__version__\n",
    "g= sitk.ReadImage('/dataNAS/people/anoopai/DODGR/DODGR_data/DODGR007_anon/DODGR007_IDX_bsln_anon/segmentation_regToCl_fc_subregions.nii')"
   ]
  },
  {
   "cell_type": "code",
   "execution_count": null,
   "metadata": {},
   "outputs": [],
   "source": [
    "qdess_moving_echo1_reornt, qdess_moving_echo1_reornt.affine"
   ]
  },
  {
   "cell_type": "code",
   "execution_count": null,
   "metadata": {},
   "outputs": [],
   "source": [
    "qdess_fixed_echo1, qdess_fixed_echo1.affine"
   ]
  },
  {
   "cell_type": "code",
   "execution_count": null,
   "metadata": {},
   "outputs": [],
   "source": [
    "pl, ax= plt.subplots(1, 1, figsize=(10, 10))\n",
    "n=20\n",
    "plt.imshow(qdess_fixed_echo1.A[:,:,n], cmap='gray')\n",
    "# plt.imshow(qdess_moving_echo1_reornt.A[:,:,n], cmap='Reds', alpha=0.5)\n",
    "plt.imshow(qdess.volumes[0].A[:,:,n], cmap='Blues', alpha=0.4)\n"
   ]
  },
  {
   "cell_type": "code",
   "execution_count": 10,
   "metadata": {},
   "outputs": [],
   "source": [
    "# from utils.signed_maurer_distance_map_image_filter import signed_maurer_distance_map_image_filter\n",
    "\n",
    "# seg_signed_fixed= signed_maurer_distance_map_image_filter(seg_fixed.A)\n",
    "# seg_signed_fixed= seg_signed_fixed.astype(np.float64)\n",
    "# seg_signed_threshold_0= np.where(seg_signed_fixed > 5, 1, seg_signed_fixed)\n",
    "# seg_signed_mv_0 = dm.MedicalVolume(seg_signed_threshold_0, qdess_fixed_echo1.affine)\n",
    "\n",
    "# seg_signed_moving= signed_maurer_distance_map_image_filter(seg_moving_reornt.A)\n",
    "# seg_signed_moving= seg_signed_moving.astype(np.float64)\n",
    "# seg_signed_threshold_1= np.where(seg_signed_moving > 5, 1, seg_signed_moving)\n",
    "# seg_signed_mv_1 = dm.MedicalVolume(seg_signed_threshold_1, qdess_moving_echo1.affine)\n",
    "\n",
    "# # Registration\n",
    "# print(\"Starting Registration\")\n",
    "\n",
    "# output= dm.register(\n",
    "#     target=seg_signed_mv_0, \n",
    "#     moving=seg_signed_mv_1, \n",
    "#     parameters=elastix_file_path, \n",
    "#     output_path=output_path, \n",
    "#     return_volumes=True, \n",
    "#     num_workers= 50,\n",
    "#     num_threads= 50,\n",
    "#     show_pbar=True)\n",
    "\n",
    "# print(\"Registration completed\")\n",
    "\n",
    "# # gather the registration parameters\n",
    "# registration_parameters = output[\"outputs\"][0]\n",
    "# registered_mask_1 = output['volume'][0]\n",
    "# # registered_mask_1.save_volume(seg_reg_SDF_save_path)\n",
    "\n",
    "# # Warp the Qdess scan using the registration parametrs obtained in the mask registration\n",
    "# reg_echo1 = dm.apply_warp(qdess_moving_echo1_reornt, out_registration=registration_parameters)\n",
    "# reg_echo2 = dm.apply_warp(qdess_moving_echo2_reornt, out_registration=registration_parameters)\n",
    "\n",
    "# # Recontrust the qdess scans from the registered qdess echos\n",
    "# qdess_moving_reg = QDess([reg_echo1, reg_echo2]) # make a qdess \\\n",
    "\n",
    "# # save qdess scans\n",
    "# print(f'Saving registered qdess files for {os.path.basename(moving_img_path)}')\n",
    "# qdess_moving_reg.save(moving_img_save_path, save_custom=True, image_data_format=ImageDataFormat.nifti)"
   ]
  }
 ],
 "metadata": {
  "kernelspec": {
   "display_name": "t2_cluster_analysis",
   "language": "python",
   "name": "python3"
  },
  "language_info": {
   "codemirror_mode": {
    "name": "ipython",
    "version": 3
   },
   "file_extension": ".py",
   "mimetype": "text/x-python",
   "name": "python",
   "nbconvert_exporter": "python",
   "pygments_lexer": "ipython3",
   "version": "3.8.20"
  }
 },
 "nbformat": 4,
 "nbformat_minor": 2
}
