{
 "cells": [
  {
   "cell_type": "code",
   "execution_count": null,
   "metadata": {},
   "outputs": [],
   "source": [
    "%load_ext autoreload\n",
    "%autoreload 2\n",
    "\n",
    "import os\n",
    "import sys\n",
    "import time\n",
    "import nibabel as nib\n",
    "import numpy as np\n",
    "import pickle"
   ]
  },
  {
   "cell_type": "markdown",
   "metadata": {},
   "source": [
    "## Intensity Thresholding\n",
    "\n",
    "##### We compute the intensity threshold from our control population. \n",
    "\n",
    "Option 1: Create a 4D NumPy array containing the 3D difference maps (axes 0-2) for all subjects (axis 3). Save it as pickle (.pkl) file\n",
    "    \n",
    "    - For example you may have a (512, 512, 80, 10) array where (512, 512) is the in-plane image size, 80 is number of out-of-plane MR slices and 10 is the number of subjects\n",
    "\n",
    "Option 2: You can also use the default value (as calculated from my data: control data difference maps of Visit at 3-months and visit-1 at 3-weeks pst ACLR). \n",
    "\n",
    "    - Intensity Value = 8.42 ms"
   ]
  },
  {
   "cell_type": "code",
   "execution_count": null,
   "metadata": {},
   "outputs": [],
   "source": [
    "# Path to your file\n",
    "cluster_map_all_path = 'path/to/your/file'\n",
    "\n",
    "# Determine the file extension\n",
    "file_extension = os.path.splitext(cluster_map_all_path)[1]\n",
    "\n",
    "# Load the file based on the extension\n",
    "if file_extension in ['.pkl', '.pickle']:\n",
    "    with open(cluster_map_all_path, 'rb') as file:\n",
    "        cluster_map_all = pickle.load(file)\n",
    "elif file_extension == '.npy':\n",
    "    cluster_map_all = np.load(cluster_map_all_path)\n",
    "else:\n",
    "    raise ValueError(\"Unsupported file format\")\n",
    "    \n",
    "# Compyte intensity threshold\n",
    "compute_intensity_threshold(\n",
    "    difference_maps_all = cluster_map_all,\n",
    "    std_values= [1, 2, 3]   # Specifiy all the values at which you want to compute the threshold\n",
    ")"
   ]
  },
  {
   "cell_type": "markdown",
   "metadata": {},
   "source": [
    "## Volume Threshold \n",
    "\n",
    "##### We compute the volume threshold from our control population. \n",
    "\n",
    "Option 1: After applying the Intensity threshold to all your subjects, create a 4D NumPy array containing these intensity thresholded 3D maps (axes 0-2) for all subjects (axis 3). \n",
    "    \n",
    "    - For example you may have a (512, 512, 80, 10) array where (512, 512) is the in-plane image size, 80 is number of out-of-plane MR slices and 10 is the number of subjects\n",
    "\n",
    "Option 2: You can also use the default value (as calculated from my data: control data difference maps of Visit at 3-months and visit-1 at 3-weeks pst ACLR). \n",
    "\n",
    "    - Volume threshold Value = 23 voxels\n",
    "\n",
    "Currently the volume threshold is measured in terms of number of voxels"
   ]
  },
  {
   "cell_type": "code",
   "execution_count": null,
   "metadata": {},
   "outputs": [],
   "source": [
    "# Path to your intensity thresholded maps from all subjects\n",
    "cluster_map_all_path = 'path/to/your/file'\n",
    "\n",
    "# Determine the file extension\n",
    "file_extension = os.path.splitext(cluster_map_all_path)[1]\n",
    "\n",
    "# Load the file based on the extension\n",
    "if file_extension in ['.pkl', '.pickle']:\n",
    "    with open(cluster_map_all_path, 'rb') as file:\n",
    "        cluster_map_all = pickle.load(file)\n",
    "elif file_extension == '.npy':\n",
    "    cluster_map_all = np.load(cluster_map_all_path)\n",
    "else:\n",
    "    raise ValueError(\"Unsupported file format\")\n",
    "    \n",
    "# Compyte intensity threshold\n",
    "compute_volume_threshold(\n",
    "    difference_maps_int_all = cluster_map_all,\n",
    "    percentile_values= [90, 95, 99]   # Specifiy all the percentile values at which you want to compute the threshold\n",
    ")"
   ]
  }
 ],
 "metadata": {
  "kernelspec": {
   "display_name": "knee_pipeline",
   "language": "python",
   "name": "python3"
  },
  "language_info": {
   "codemirror_mode": {
    "name": "ipython",
    "version": 3
   },
   "file_extension": ".py",
   "mimetype": "text/x-python",
   "name": "python",
   "nbconvert_exporter": "python",
   "pygments_lexer": "ipython3",
   "version": "3.8.20"
  }
 },
 "nbformat": 4,
 "nbformat_minor": 2
}
