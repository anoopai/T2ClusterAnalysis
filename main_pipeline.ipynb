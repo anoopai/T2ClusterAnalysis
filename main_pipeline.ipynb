{
 "cells": [
  {
   "cell_type": "code",
   "execution_count": 91,
   "metadata": {},
   "outputs": [
    {
     "name": "stdout",
     "output_type": "stream",
     "text": [
      "The autoreload extension is already loaded. To reload it, use:\n",
      "  %reload_ext autoreload\n"
     ]
    }
   ],
   "source": [
    "%load_ext autoreload\n",
    "%autoreload 2\n",
    "\n",
    "import os\n",
    "import dosma as dm\n",
    "import nibabel as nib\n",
    "import matplotlib.pyplot as plt  \n",
    "import numpy as np\n",
    "import subprocess\n",
    "import pickle\n",
    "import pandas as pd\n",
    "\n",
    "from dosma.scan_sequences import QDess\n",
    "from dosma import ImageDataFormat\n",
    "\n",
    "from utils.convert_qdess_dicom2nii import *\n",
    "from utils.dosma_segmentation_bone_cartilage import *\n",
    "from utils.append_df_to_excel import *\n",
    "from utils.filter_qmaps import *\n",
    "from utils.difference_map_tissue import *\n",
    "from utils.apply_intensity_threshold import *\n",
    "from utils.apply_volume_threshold import *\n",
    "from utils.compute_t2_DODGR import *\n",
    "\n",
    "from utils.sgd_based_registration import *\n",
    "from utils.sgd_based_qmap_registration import *\n",
    "from utils.dosma_segmentation import *\n",
    "from utils.compute_DSC import *\n",
    "from utils.compute_intensity_threshold import *\n",
    "from utils.compute_volume_threshold import * \n",
    "from utils.compute_T2C_metrics import *\n",
    "from utils.append_df_to_excel import *"
   ]
  },
  {
   "cell_type": "code",
   "execution_count": 4,
   "metadata": {},
   "outputs": [],
   "source": [
    "os.environ['DIR']= '/dataNAS/people/anoopai/DODGR'\n",
    "os.environ['DATA_DICOM']= '/dataNAS/people/anoopai/DODGR/DODGR_data_dicom'\n",
    "os.environ['DATA']= '/dataNAS/people/anoopai/DODGR/DODGR_data'\n",
    "os.environ['FILES']= '/dataNAS/people/anoopai/DODGR/code/files'\n",
    "os.environ['REG']= '/dataNAS/people/anoopai/DODGR/reg'\n",
    "os.environ['RESULTS'] = '/dataNAS/people/anoopai/DODGR/results'\n",
    "\n",
    "# Change working directory to the directory containing data\n",
    "dir_path = os.environ['DIR']\n",
    "dicom_data_path = os.environ['DATA_DICOM']\n",
    "data_path = os.environ['DATA']\n",
    "files_path = os.environ['FILES']\n",
    "reg_path = os.environ['REG']\n",
    "results_path = os.environ['RESULTS']"
   ]
  },
  {
   "cell_type": "code",
   "execution_count": null,
   "metadata": {},
   "outputs": [],
   "source": [
    "# ##############################################################################################################################################\n",
    "# # Perform Automatic segmentation: Femoral Cartilage, Medial and Lateral Tibial Cartilage, Patellar Cartilage, Meniscus, Femur, Tibia, Patella\n",
    "# # Note: Requires GPU\n",
    "# ##############################################################################################################################################\n",
    "# for sub_dir in os.listdir(dicom_data_path):\n",
    "#     sub_dir_path = os.path.join(dicom_data_path, sub_dir)\n",
    "#     sub_dir_path2 = os.path.join(data_path, sub_dir)\n",
    "#     if not os.path.exists(sub_dir_path2):\n",
    "#         os.makedirs(sub_dir_path2)\n",
    "#     for data_dir in os.listdir(sub_dir_path):\n",
    "#         data_dir_path = os.path.join(sub_dir_path, data_dir)\n",
    "#         data_dir_path2 = os.path.join(sub_dir_path2, f'{data_dir}/qdess')\n",
    "#         if not os.path.exists(data_dir_path2):\n",
    "#             os.makedirs(data_dir_path2)\n",
    "#         if not os.path.exists(data_dir_path2):\n",
    "#             convert_qdess_dicom2nii(data_dir_path, data_dir_path2)\n",
    "#         else:\n",
    "#             print(f'{data_dir_path2} already exists')"
   ]
  },
  {
   "cell_type": "code",
   "execution_count": null,
   "metadata": {},
   "outputs": [],
   "source": [
    "# weights_path = os.path.join(files_path, '/weights/StanfordQDessBoneUNet2D_model_weights.h5')\n",
    "\n",
    "\n",
    "# for sub_dir in os.listdir(data_path):\n",
    "#     print(type(data_path))\n",
    "#     sub_dir_path = os.path.join(data_path, sub_dir)\n",
    "#     print(sub_dir)\n",
    "#     for session_dir in os.listdir(sub_dir_path):\n",
    "#         session_path = os.path.join(sub_dir_path, session_dir)\n",
    "#         qdess_path = os.path.join(session_path, 'qdess')\n",
    "#         seg_path = os.path.join(session_path, 'segmentation.nii')\n",
    "#         if not os.path.exists(seg_path):\n",
    "#             print(f'Segmenting {qdess_path}')\n",
    "#             # dosma_segmentation_bone_cartilage(\n",
    "#             #         qdess_file_path = qdess_path,\n",
    "#             #         output_file_name = seg_path,\n",
    "#             #         weights_path = weights_path)\n",
    "#         else:\n",
    "#             print(f'{seg_path} already exists')"
   ]
  },
  {
   "cell_type": "code",
   "execution_count": null,
   "metadata": {},
   "outputs": [],
   "source": [
    "# # remove files\n",
    "# for sub_dir in os.listdir(data_path):\n",
    "#     sub_dir_path = os.path.join(data_path, sub_dir)\n",
    "#     for session_dir in os.listdir(sub_dir_path):\n",
    "#         session_path = os.path.join(sub_dir_path, session_dir)\n",
    "#         qdess_path = os.path.join(session_path, 'qdess')\n",
    "#         seg_path = os.path.join(session_path, 'segmentation.nii')\n",
    "#         if os.path.exists(seg_path):\n",
    "#             os.remove(seg_path)\n",
    "#         else:\n",
    "#             print(f'{seg_path} does not exist')"
   ]
  },
  {
   "cell_type": "code",
   "execution_count": null,
   "metadata": {},
   "outputs": [],
   "source": [
    "# Save FC label from segmention.nii \n",
    "# for sub_dir in os.listdir(data_path):\n",
    "#     sub_dir_path = os.path.join(data_path, sub_dir)\n",
    "#     for session_dir in os.listdir(sub_dir_path):\n",
    "#         session_path = os.path.join(sub_dir_path, session_dir)\n",
    "#         qdess_path = os.path.join(session_path, 'qdess')\n",
    "#         seg_path = os.path.join(session_path, 'segmentation.nii')\n",
    "#         seg_save_path = os.path.join(session_path, 'segmentation_fc.nii')\n",
    "#         if os.path.exists(seg_path) and not os.path.exists(seg_save_path):\n",
    "#             seg = nib.load(seg_path)\n",
    "#             fc_seg = np.where(seg.get_fdata() == 2, 1, 0).astype(float)\n",
    "#             seg_nii = nib.Nifti1Image(fc_seg, seg.affine)\n",
    "#             print(seg_save_path)\n",
    "#             nib.save(seg_nii, seg_save_path)"
   ]
  },
  {
   "cell_type": "code",
   "execution_count": null,
   "metadata": {},
   "outputs": [],
   "source": [
    "# ##############################################################################################################################################\n",
    "# # Step 4: SGD-based registration of follow-up scans to baseline scans\n",
    "# # Conda activate dess\n",
    "# ##############################################################################################################################################\n",
    "\n",
    "# elastix_file_path = os.path.join(files_path, 'elastic_parameters/elastix_registration_parameters_SDF_mask.txt')\n",
    "\n",
    "# # idensify baseline and follow-up scans for ACLR and contralateral legs\n",
    "# for sub_dir in os.listdir(data_path):\n",
    "#     sub_dir_path = os.path.join(data_path, sub_dir)\n",
    "#     print(sub_dir)\n",
    "    \n",
    "#     session_dirs= os.listdir(sub_dir_path)\n",
    "    \n",
    "#     for session_dir in session_dirs:\n",
    "#         if 'IDX_bsln' in session_dir:\n",
    "#             idx_bsln_dir_path = os.path.join(sub_dir_path, session_dir)\n",
    "#         elif 'IDX_6mo' in session_dir:\n",
    "#             idx_fup_dir_path = os.path.join(sub_dir_path, session_dir)\n",
    "#         elif 'CL_bsln' in session_dir:\n",
    "#             cl_bsln_dir_path = os.path.join(sub_dir_path, session_dir)\n",
    "#         elif 'CL_6mo' in session_dir:\n",
    "#             cl_fup_dir_path = os.path.join(sub_dir_path, session_dir)\n",
    "            \n",
    "#     idx_bsln_qdess_path = os.path.join(idx_bsln_dir_path, 'qdess')\n",
    "#     idx_bsln_seg_path = os.path.join(idx_bsln_dir_path, 'segmentation_fc.nii')\n",
    "    \n",
    "#     idx_fup_qdess_path = os.path.join(idx_fup_dir_path, 'qdess')\n",
    "#     idx_fup_qdess_reg_path = os.path.join(idx_fup_dir_path, 'qdess_reg')\n",
    "#     idx_fup_seg_path = os.path.join(idx_fup_dir_path, 'segmentation_fc.nii')\n",
    "    \n",
    "#     cl_bsln_qdess_path = os.path.join(cl_bsln_dir_path, 'qdess')\n",
    "#     cl_bsln_seg_path = os.path.join(cl_bsln_dir_path, 'segmentation_fc.nii')\n",
    "    \n",
    "#     cl_fup_qdess_path = os.path.join(cl_fup_dir_path, 'qdess')\n",
    "#     cl_fup_qdess_reg_path = os.path.join(cl_fup_dir_path, 'qdess_reg')\n",
    "#     cl_fup_seg_path = os.path.join(cl_fup_dir_path, 'segmentation_fc.nii')\n",
    "    \n",
    "#     print(f'Registering 6mo to bsln for IDX leg of {sub_dir}')\n",
    "#     sgd_based_registration(\n",
    "#     fixed_img_path = idx_bsln_qdess_path,\n",
    "#     moving_img_path = idx_fup_qdess_path,\n",
    "#     moving_img_save_path = idx_fup_qdess_reg_path,\n",
    "#     fixed_mask_path = idx_bsln_seg_path,\n",
    "#     moving_mask_path = idx_fup_seg_path,\n",
    "#     elastix_file_path = elastix_file_path,\n",
    "#     reg_path = reg_path,  \n",
    "#     reg_check = True  # if True, it will save the a jpg pciture of a random slice (n) of the segmentation mask of the fixed image overlayed on the registered moving image)\n",
    "#     ) \n",
    "    \n",
    "#     print(f'Registering 6mo to bsln for CL leg of {sub_dir}')\n",
    "#     sgd_based_registration(\n",
    "#     fixed_img_path = cl_bsln_qdess_path,\n",
    "#     moving_img_path = cl_fup_qdess_path,\n",
    "#     moving_img_save_path = cl_fup_qdess_reg_path,\n",
    "#     fixed_mask_path = cl_bsln_seg_path,\n",
    "#     moving_mask_path = cl_fup_seg_path,\n",
    "#     elastix_file_path = elastix_file_path,\n",
    "#     reg_path = reg_path, \n",
    "#     reg_check = True  # if True, it will save the a jpg pciture of a random slice (n) of the segmentation mask of the fixed image overlayed on the registered moving image)\n",
    "#     )  "
   ]
  },
  {
   "cell_type": "code",
   "execution_count": null,
   "metadata": {},
   "outputs": [],
   "source": [
    "# ##############################################################################################################################################\n",
    "# # Step 5: Resegmentation: Perform Automatic re-segmentation: Femoral Cartilage, Medial and Lateral Tibial Cartilage, Patellar Cartilage, Meniscus, Femur, Tibia, Patella\n",
    "# # Note: Requires GPU\n",
    "# # conda activate dosma2\n",
    "# ##############################################################################################################################################\n",
    "\n",
    "# weights_path = os.path.join(files_path, 'weights/best_model.h5')\n",
    "\n",
    "# for sub_dir in os.listdir(data_path):\n",
    "#     sub_dir_path = os.path.join(data_path, sub_dir)\n",
    "#     print(sub_dir_path)\n",
    "#     for session_dir in os.listdir(sub_dir_path):\n",
    "#         if '6mo' in session_dir:\n",
    "#             session_path = os.path.join(sub_dir_path, session_dir)\n",
    "#             qdess_path = os.path.join(session_path, 'qdess_reg')\n",
    "#             seg_path = os.path.join(session_path, 'segmentation_reg.nii')\n",
    "#             if not os.path.exists(seg_path):\n",
    "#                 print(f'Segmenting {qdess_path}')\n",
    "#                 dosma_segmentation_bone_cartilage(\n",
    "#                         qdess_file_path = qdess_path,\n",
    "#                         output_file_path = seg_path,\n",
    "#                         weights_path = weights_path)\n",
    "#             else:\n",
    "#                 print(f'{seg_path} already exists')"
   ]
  },
  {
   "cell_type": "code",
   "execution_count": null,
   "metadata": {},
   "outputs": [],
   "source": [
    "# ##############################################################################################################################################\n",
    "# # Step 6: Save only FC segmentation as a seperate file for easy accessibility in the future\n",
    "# # conda activate dess\n",
    "# ##############################################################################################################################################\n",
    "           \n",
    "# for sub_dir in os.listdir(data_path):\n",
    "#     sub_dir_path = os.path.join(data_path, sub_dir)\n",
    "#     for session_dir in os.listdir(sub_dir_path):\n",
    "#         if '6mo' in session_dir:\n",
    "#             session_path = os.path.join(sub_dir_path, session_dir)\n",
    "#             seg_path = os.path.join(session_path, 'segmentation_reg.nii')\n",
    "#             seg_save_path = os.path.join(session_path, 'segmentation_reg_fc.nii')\n",
    "#             if os.path.exists(seg_path) and not os.path.exists(seg_save_path):\n",
    "#                 seg = nib.load(seg_path)\n",
    "#                 fc_seg = np.where(seg.get_fdata() == 2, 1, 0).astype(float)\n",
    "#                 seg_nii = nib.Nifti1Image(fc_seg, seg.affine)\n",
    "#                 print(f'Saving {seg_save_path}')\n",
    "#                 nib.save(seg_nii, seg_save_path)\n",
    "#             else:\n",
    "#                 print(f'{seg_save_path} already exists')"
   ]
  },
  {
   "cell_type": "code",
   "execution_count": null,
   "metadata": {},
   "outputs": [],
   "source": [
    "# # ##############################################################################################################################################\n",
    "# # # Step 7: Compute Dice score between pre-registration baseline fc segmentation mask and [post-registration follow-up fc segmentation mask\n",
    "# # # conda activate dess\n",
    "# # ##############################################################################################################################################\n",
    "# dsc_data_path = os.path.join(results_path, 'DSC_data.xlsx')\n",
    "# dsc_data = pd.DataFrame(columns=['sub', 'Knee', 'DSC'])\n",
    "\n",
    "# for sub_dir in os.listdir(data_path):\n",
    "#     sub_dir_path = os.path.join(data_path, sub_dir)\n",
    "    \n",
    "#     session_dirs= os.listdir(sub_dir_path)\n",
    "    \n",
    "#     idx_dirs= [dir for dir in session_dirs if 'IDX' in dir]\n",
    "#     cl_dirs= [dir for dir in session_dirs if 'CL' in dir]\n",
    "    \n",
    "#     for session_dir in idx_dirs:\n",
    "#         if 'bsln' in session_dir:\n",
    "#             idx_bsln_dir_path = os.path.join(sub_dir_path, session_dir)\n",
    "#         elif '6mo' in session_dir:\n",
    "#             idx_fup_dir_path = os.path.join(sub_dir_path, session_dir)       \n",
    "    \n",
    "#     baseline_seg_path = os.path.join(idx_bsln_dir_path, 'segmentation_fc.nii')\n",
    "#     followup_seg_path = os.path.join(idx_fup_dir_path, 'segmentation_reg_fc.nii')\n",
    "    \n",
    "#     baseline_seg = nib.load(baseline_seg_path).get_fdata()\n",
    "#     followup_seg = nib.load(followup_seg_path).get_fdata()\n",
    "    \n",
    "#     DSC= compute_DSC(\n",
    "#         mask1= baseline_seg,\n",
    "#         mask2= followup_seg\n",
    "#     )\n",
    "    \n",
    "#     sub= session_dir.split('_')[0]\n",
    "#     knee= session_dir.split('_')[1]\n",
    "#     visit= session_dir.split('_')[2]    \n",
    "#     dsc_data = pd.concat([dsc_data, pd.DataFrame({'sub': sub, 'Knee': knee, 'DSC': DSC}, index=[0])], ignore_index=True)\n",
    "#     print(dsc_data)\n",
    "    \n",
    "#     for session_dir in cl_dirs:\n",
    "#         if 'bsln' in session_dir:\n",
    "#             cl_bsln_dir_path = os.path.join(sub_dir_path, session_dir)\n",
    "#         elif '6mo' in session_dir:\n",
    "#             cl_fup_dir_path = os.path.join(sub_dir_path, session_dir)       \n",
    "    \n",
    "#     baseline_seg_path = os.path.join(cl_bsln_dir_path, 'segmentation_fc.nii')\n",
    "#     followup_seg_path = os.path.join(cl_fup_dir_path, 'segmentation_reg_fc.nii')\n",
    "    \n",
    "#     baseline_seg = nib.load(baseline_seg_path).get_fdata()\n",
    "#     followup_seg = nib.load(followup_seg_path).get_fdata()\n",
    "    \n",
    "#     DSC= compute_DSC(\n",
    "#         mask1= baseline_seg,\n",
    "#         mask2= followup_seg\n",
    "#     )\n",
    "    \n",
    "#     sub= session_dir.split('_')[0]\n",
    "#     knee= session_dir.split('_')[1]\n",
    "#     visit= session_dir.split('_')[2]\n",
    "#     dsc_data = pd.concat([dsc_data, pd.DataFrame({'sub': sub, 'Knee': knee, 'DSC': DSC}, index=[0])], ignore_index=True)\n",
    "    \n",
    "    \n",
    "# append_df_to_excel(data=dsc_data, data_file_path=dsc_data_path, sheet='DSC_data')"
   ]
  },
  {
   "cell_type": "code",
   "execution_count": null,
   "metadata": {},
   "outputs": [],
   "source": [
    "# load data and show rows with DSC < 0.75\n",
    "\n",
    "dsc_data = pd.read_excel(dsc_data_path, sheet_name='DSC_data')\n",
    "print(dsc_data[dsc_data['DSC'] < 0.75])"
   ]
  },
  {
   "cell_type": "code",
   "execution_count": null,
   "metadata": {},
   "outputs": [],
   "source": [
    "# ##############################################################################################################################################\n",
    "# # Step 8: Compute t2 maps\n",
    "# ##############################################################################################################################################\n",
    "for sub_dir in os.listdir(data_path):\n",
    "    sub_dir_path = os.path.join(data_path, sub_dir)\n",
    "    \n",
    "    session_dirs= os.listdir(sub_dir_path)\n",
    "    \n",
    "    for session_dir in session_dirs:\n",
    "        \n",
    "        if 'bsln' in session_dir:\n",
    "            print(session_dir)\n",
    "            session_path = os.path.join(sub_dir_path, session_dir)\n",
    "            qdess_path = os.path.join(session_path, 'qdess')\n",
    "            mask_path = os.path.join(session_path, 'segmentation_fc.nii')\n",
    "            t2_save_path = os.path.join(session_path, 't2')\n",
    "            if not os.path.exists(t2_save_path):\n",
    "                compute_t2_DODGR(qdess_path, mask_path, t2_save_path, lateral2medial= True)\n",
    "            else:\n",
    "                print(f'{t2_save_path} already exists')\n",
    "\n",
    "        elif '6mo' in session_dir:\n",
    "            print(session_dir)\n",
    "            session_path = os.path.join(sub_dir_path, session_dir)\n",
    "            qdess_path = os.path.join(session_path, 'qdess_reg')\n",
    "            mask_path = os.path.join(session_path, 'segmentation_reg_fc.nii')\n",
    "            t2_save_path = os.path.join(session_path, 't2')\n",
    "            if not os.path.exists(t2_save_path):\n",
    "                compute_t2_DODGR(qdess_path, mask_path, t2_save_path, lateral2medial= True)\n",
    "            else:\n",
    "                print(f'{t2_save_path} already exists')\n"
   ]
  },
  {
   "cell_type": "code",
   "execution_count": null,
   "metadata": {},
   "outputs": [],
   "source": [
    "# # ##############################################################################################################################################\n",
    "# # # Step 8: Filter t2 Maps\n",
    "# # ##############################################################################################################################################\n",
    "# for sub_dir in os.listdir(data_path):\n",
    "#     sub_dir_path = os.path.join(data_path, sub_dir)\n",
    "    \n",
    "#     session_dirs= os.listdir(sub_dir_path)\n",
    "    \n",
    "#     for session_dir in session_dirs:\n",
    "#         print(session_dir)\n",
    "#         session_path = os.path.join(sub_dir_path, session_dir)\n",
    "#         t2_path = os.path.join(session_path, 't2/fc/t2/t2.nii.gz')\n",
    "#         t2_filt_path = os.path.join(session_path, 't2/fc/t2/t2_filtered.nii.gz')\n",
    "#         if not os.path.exists(t2_filt_path):\n",
    "#             print(f'Filtering and saving T2 map.')\n",
    "#             t2_filt = filter_qmaps(t2_path, fwhm= 1)\n",
    "#             nib.save(t2_filt, t2_filt_path)\n",
    "#         else:\n",
    "#             print(f'{t2_filt_path} already exists')"
   ]
  },
  {
   "cell_type": "code",
   "execution_count": null,
   "metadata": {},
   "outputs": [],
   "source": [
    "t2_filt_path = '/dataNAS/people/anoopai/DODGR/DODGR_data/DODGR022_anon/DODGR022_CL_6mo_anon/t2/fc/t2/t2_filtered.nii.gz'\n",
    "t2_path = '/dataNAS/people/anoopai/DODGR/DODGR_data/DODGR022_anon/DODGR022_CL_6mo_anon/t2/fc/t2/t2.nii.gz'\n",
    "\n",
    "t2 = nib.load(t2_path).get_fdata()\n",
    "t2_filt = nib.load(t2_filt_path).get_fdata()\n",
    "\n",
    "# Plot and check\n",
    "n=45\n",
    "\n",
    "\n",
    "fig1, ax = plt.subplots(nrows=1, ncols=2, figsize=(10,10))\n",
    "ax[0].imshow(t2[:,:,20], cmap = 'viridis')\n",
    "ax[1].imshow(t2_filt[:,:,20], cmap = 'viridis')\n",
    "# plt.axis('off')\n",
    "# plt.colorbar()"
   ]
  },
  {
   "cell_type": "code",
   "execution_count": null,
   "metadata": {},
   "outputs": [],
   "source": [
    "# ##############################################################################################################################################\n",
    "# # Step 10: Compute Difference Maps\n",
    "# ##############################################################################################################################################\n",
    "for sub_dir in os.listdir(data_path):\n",
    "    sub_dir_path = os.path.join(data_path, sub_dir)\n",
    "    \n",
    "    # session_dirs= os.listdir(sub_dir_path)\n",
    "    \n",
    "    idx_dirs= [dir for dir in os.listdir(sub_dir_path) if 'IDX' in dir]\n",
    "    cl_dirs= [dir for dir in os.listdir(sub_dir_path) if 'CL' in dir]\n",
    "    \n",
    "    knee_dirs = [idx_dirs, cl_dirs]\n",
    "    \n",
    "    for knee_dir in knee_dirs:\n",
    "        for session_dir in knee_dir:\n",
    "            if 'bsln' in session_dir:\n",
    "                idx_bsln_dir_path = os.path.join(sub_dir_path, session_dir)\n",
    "            elif '6mo' in session_dir:\n",
    "                idx_fup_dir_path = os.path.join(sub_dir_path, session_dir)       \n",
    "        \n",
    "        baseline_t2_path = os.path.join(idx_bsln_dir_path, 't2/fc/t2/t2_filtered.nii.gz')\n",
    "        followup_t2_path = os.path.join(idx_fup_dir_path, 't2/fc/t2/t2_filtered.nii.gz')\n",
    "        baseline_seg_path = os.path.join(idx_bsln_dir_path, 'segmentation_fc.nii')\n",
    "        followup_seg_path = os.path.join(idx_fup_dir_path, 'segmentation_reg_fc.nii')\n",
    "        difference_map_save_path = os.path.join(idx_fup_dir_path, 'difference_map.nii')\n",
    "        \n",
    "        if not os.path.exists(difference_map_save_path):\n",
    "            \n",
    "            print(f'Computing and saving difference map for {sub_dir}')\n",
    "            \n",
    "            # Compute and save difference map\n",
    "            difference_map = difference_map_tissue(\n",
    "                baseline_qmap_path= baseline_t2_path, \n",
    "                followup_qmap_path= followup_t2_path,\n",
    "                baseline_mask_path=baseline_seg_path, \n",
    "                followup_mask_path= followup_seg_path, \n",
    "                mask_erode= False, \n",
    "                erode_size= 1)\n",
    "            \n",
    "            nib.save(difference_map, difference_map_save_path)\n",
    "            \n",
    "        else:\n",
    "            print(f'Difference map for {sub_dir_path} already exists')"
   ]
  },
  {
   "cell_type": "code",
   "execution_count": 62,
   "metadata": {},
   "outputs": [
    {
     "data": {
      "text/plain": [
       "<matplotlib.colorbar.Colorbar at 0x7f5b2bc6ed60>"
      ]
     },
     "execution_count": 62,
     "metadata": {},
     "output_type": "execute_result"
    },
    {
     "data": {
      "image/png": "[encoded data removed]",
      "text/plain": [
       "<Figure size 500x500 with 2 Axes>"
      ]
     },
     "metadata": {},
     "output_type": "display_data"
    }
   ],
   "source": [
    "diff_map_path ='/dataNAS/people/anoopai/DODGR/DODGR_data/DODGR022_anon/DODGR022_IDX_6mo_anon/difference_map.nii'\n",
    "diffmap = nib.load(diff_map_path)\n",
    "n=45\n",
    "\n",
    "data = diffmap.get_fdata()[100:350,100:350,n]\n",
    "# vmin = -np.abs(data).max()\n",
    "# vmax = np.abs(data).max()\n",
    "fig1, ax = plt.subplots(nrows=1, ncols=1, figsize=(5,5))\n",
    "plt.imshow(data, cmap='coolwarm')\n",
    "plt.axis('off')\n",
    "plt.colorbar()"
   ]
  },
  {
   "cell_type": "code",
   "execution_count": 45,
   "metadata": {},
   "outputs": [
    {
     "data": {
      "text/plain": [
       "array([-54.68250361, -54.42962162, -54.31584288, ...,  54.65348603,\n",
       "        54.75391378,          nan])"
      ]
     },
     "execution_count": 45,
     "metadata": {},
     "output_type": "execute_result"
    }
   ],
   "source": [
    "np.unique(diffmap.get_fdata())"
   ]
  },
  {
   "cell_type": "code",
   "execution_count": 56,
   "metadata": {},
   "outputs": [],
   "source": [
    "baseline_qmap_path= '/dataNAS/people/anoopai/DODGR/DODGR_data/DODGR003_anon/DODGR003_CL_bsln_anon/t2/fc/t2/t2_filtered.nii.gz'\n",
    "baseline_mask_path = '/dataNAS/people/anoopai/DODGR/DODGR_data/DODGR003_anon/DODGR003_CL_bsln_anon/segmentation_fc.nii'\n",
    "\n",
    "followup_qmap_path= '/dataNAS/people/anoopai/DODGR/DODGR_data/DODGR003_anon/DODGR003_CL_6mo_anon/t2/fc/t2/t2_filtered.nii.gz'\n",
    "followup_mask_path = '/dataNAS/people/anoopai/DODGR/DODGR_data/DODGR003_anon/DODGR003_CL_6mo_anon/segmentation_reg_fc.nii'\n",
    "\n",
    "\n",
    "import numpy as np\n",
    "import nibabel as nib\n",
    "from nibabel import Nifti1Image\n",
    "\n",
    "from utils.difference_map import difference_map\n",
    "from utils.erode import erode\n",
    "\n",
    "# load the qmaps and masks\n",
    "baseline_qmap = nib.load(baseline_qmap_path)\n",
    "followup_qmap = nib.load(followup_qmap_path)\n",
    "baseline_mask = nib.load(baseline_mask_path)\n",
    "followup_mask = nib.load(followup_mask_path)\n",
    "\n",
    "\n",
    "# convert to binary mask (1s and 0s, if labels are not 1)\n",
    "baseline_mask_binary = np.where(baseline_mask.get_fdata() > 0, 1, 0)\n",
    "followup_mask_binary = np.where(followup_mask.get_fdata() > 0, 1, 0)\n",
    "\n",
    "baseline_nan = np.where(baseline_mask.get_fdata() == 1, baseline_qmap.get_fdata(), np.nan)\n",
    "followup_nan = np.where(followup_mask.get_fdata() == 1, followup_qmap.get_fdata(), np.nan)\n",
    "\n",
    "# Assume baseline and target are your input arrays\n",
    "baseline_matched = np.where(np.isnan(followup_nan), np.nan, baseline_nan)\n",
    "followup_matched = np.where(np.isnan(baseline_nan), np.nan, followup_nan)\n",
    "\n",
    "# Perform the subtraction\n",
    "difference_map2 = followup_matched - baseline_matched\n"
   ]
  },
  {
   "cell_type": "code",
   "execution_count": 59,
   "metadata": {},
   "outputs": [
    {
     "data": {
      "text/plain": [
       "<matplotlib.colorbar.Colorbar at 0x7f5b2bdaed00>"
      ]
     },
     "execution_count": 59,
     "metadata": {},
     "output_type": "execute_result"
    },
    {
     "data": {
      "image/png": "[encoded data removed]",
      "text/plain": [
       "<Figure size 640x480 with 2 Axes>"
      ]
     },
     "metadata": {},
     "output_type": "display_data"
    }
   ],
   "source": [
    "# c = baseline_nan - followup_nan\n",
    "\n",
    "plt.imshow(difference_map2[:,:,45], cmap= 'coolwarm')\n",
    "plt.colorbar()"
   ]
  },
  {
   "cell_type": "code",
   "execution_count": null,
   "metadata": {},
   "outputs": [],
   "source": [
    "# ##############################################################################################################################################\n",
    "# # Step 11: Apply intensity threshold to difference maps\n",
    "# ##############################################################################################################################################\n",
    "print('Applying intensity threshold to difference maps')\n",
    "for sub_dir in os.listdir(data_path):\n",
    "    sub_dir_path = os.path.join(data_path, sub_dir)\n",
    "    \n",
    "    # session_dirs= os.listdir(sub_dir_path)\n",
    "    \n",
    "    idx_dirs= [dir for dir in os.listdir(sub_dir_path) if 'IDX' in dir]\n",
    "    cl_dirs= [dir for dir in os.listdir(sub_dir_path) if 'CL' in dir]\n",
    "    \n",
    "    knee_dirs = [idx_dirs, cl_dirs]\n",
    "    \n",
    "    for knee_dir in knee_dirs:\n",
    "        for session_dir in knee_dir:\n",
    "            if '6mo' in session_dir:\n",
    "                dir_path = os.path.join(sub_dir_path, session_dir)       \n",
    "                difference_map_path = os.path.join(dir_path, 'difference_map.nii')\n",
    "                difference_map_pos_path = os.path.join(dir_path, 'diff_map_intensity_thresh_pos.nii')\n",
    "                difference_map_neg_path = os.path.join(dir_path, 'diff_map_intensity_thresh_neg.nii')\n",
    "\n",
    "                if not os.path.exists(difference_map_pos_path):\n",
    "                    print(f'Applying positive intensity threshold to difference map for {sub_dir}')\n",
    "                    # Apply intensity threshold\n",
    "                    diff_map_intensity_thresholded_pos = apply_intensity_threshold(\n",
    "                        difference_map_path=difference_map_path, \n",
    "                        intensity_threshold= 8.5,  # change this!\n",
    "                        cluster_type='pos')\n",
    "                    nib.save(diff_map_intensity_thresholded_pos, difference_map_pos_path)\n",
    "                    \n",
    "                if not os.path.exists(difference_map_neg_path):\n",
    "                    print(f'Applying negative intensity threshold to difference map for {sub_dir}')\n",
    "                    # Apply intensity threshold\n",
    "                    diff_map_intensity_thresholded_neg = apply_intensity_threshold(\n",
    "                        difference_map_path=difference_map_path, \n",
    "                        intensity_threshold= 8.5,  # change this!\n",
    "                        cluster_type='neg')\n",
    "                    nib.save(diff_map_intensity_thresholded_neg, difference_map_neg_path)"
   ]
  },
  {
   "cell_type": "code",
   "execution_count": 5,
   "metadata": {},
   "outputs": [],
   "source": [
    "diff_map_path ='/dataNAS/people/anoopai/DODGR/DODGR_data/DODGR022_anon/DODGR022_IDX_6mo_anon/diff_map_intensity_thresh_pos.nii'\n",
    "diffmap = nib.load(diff_map_path)\n",
    "n=20\n",
    "\n",
    "# data = diffmap.get_fdata()[100:350,100:350,n]\n",
    "# vmin = -np.abs(data).max()\n",
    "# vmax = np.abs(data).max()\n",
    "# fig1, ax = plt.subplots(nrows=1, ncols=1, figsize=(5,5))\n",
    "# plt.imshow(data, cmap='coolwarm', vmin=vmin, vmax=vmax)\n",
    "# plt.axis('off')\n",
    "# plt.colorbar()"
   ]
  },
  {
   "cell_type": "code",
   "execution_count": 9,
   "metadata": {},
   "outputs": [
    {
     "data": {
      "text/plain": [
       "numpy.float64"
      ]
     },
     "execution_count": 9,
     "metadata": {},
     "output_type": "execute_result"
    }
   ],
   "source": [
    "type(np.unique(diffmap.get_fdata())[0])"
   ]
  },
  {
   "cell_type": "code",
   "execution_count": 17,
   "metadata": {},
   "outputs": [
    {
     "data": {
      "text/plain": [
       "<matplotlib.colorbar.Colorbar at 0x7f5f4b766550>"
      ]
     },
     "execution_count": 17,
     "metadata": {},
     "output_type": "execute_result"
    },
    {
     "data": {
      "image/png": "[encoded data removed]",
      "text/plain": [
       "<Figure size 500x500 with 2 Axes>"
      ]
     },
     "metadata": {},
     "output_type": "display_data"
    }
   ],
   "source": [
    "n=20\n",
    "\n",
    "data = diffmap.get_fdata()[100:350,100:350,n]\n",
    "vmin = 0\n",
    "vmax = 50\n",
    "fig1, ax = plt.subplots(nrows=1, ncols=1, figsize=(5,5))\n",
    "plt.imshow(data, cmap='coolwarm', vmin=vmin, vmax=vmax)\n",
    "plt.axis('off')\n",
    "plt.colorbar()"
   ]
  },
  {
   "cell_type": "code",
   "execution_count": 18,
   "metadata": {},
   "outputs": [
    {
     "data": {
      "text/plain": [
       "array([ 1., nan])"
      ]
     },
     "execution_count": 18,
     "metadata": {},
     "output_type": "execute_result"
    }
   ],
   "source": [
    "np.unique(diffmap.get_fdata())"
   ]
  },
  {
   "cell_type": "code",
   "execution_count": null,
   "metadata": {},
   "outputs": [],
   "source": [
    "# ##############################################################################################################################################\n",
    "# # Step 11: Apply volume threshold to difference maps\n",
    "# ##############################################################################################################################################\n",
    "print('Applying volume threshold to difference maps')\n",
    "for sub_dir in os.listdir(data_path):\n",
    "    sub_dir_path = os.path.join(data_path, sub_dir)\n",
    "    \n",
    "    # session_dirs= os.listdir(sub_dir_path)\n",
    "    \n",
    "    idx_dirs= [dir for dir in os.listdir(sub_dir_path) if 'IDX' in dir]\n",
    "    cl_dirs= [dir for dir in os.listdir(sub_dir_path) if 'CL' in dir]\n",
    "    \n",
    "    knee_dirs = [idx_dirs, cl_dirs]\n",
    "    \n",
    "    for knee_dir in knee_dirs:\n",
    "        for session_dir in knee_dir:\n",
    "            if '6mo' in session_dir:\n",
    "                dir_path = os.path.join(sub_dir_path, session_dir)       \n",
    "                difference_map_pos_path = os.path.join(dir_path, 'diff_map_intensity_thresh_pos.nii')\n",
    "                difference_map_neg_path = os.path.join(dir_path, 'diff_map_intensity_thresh_neg.nii')\n",
    "                difference_map_vol_pos_path = os.path.join(dir_path, 'diff_map_volume_thresh_pos.nii')\n",
    "                difference_map_vol_neg_path = os.path.join(dir_path, 'diff_map_volume_thresh_neg.nii')\n",
    "\n",
    "                if not os.path.exists(difference_map_vol_pos_path):\n",
    "                    print(f'Applying volume threshold to intensity thresholded positive difference map for {sub_dir}')\n",
    "                    # Apply intensity threshold\n",
    "                    diff_map_volume_thresholded_pos = apply_volume_threshold(\n",
    "                        difference_map_path=difference_map_pos_path, \n",
    "                        volume_threshold= 25)\n",
    "                    nib.save(diff_map_volume_thresholded_pos, difference_map_vol_pos_path)\n",
    "                    \n",
    "                if not os.path.exists(difference_map_vol_neg_path):\n",
    "                    print(f'Applying volume threshold to intensity thresholded negative difference map for {sub_dir}')\n",
    "                    # Apply intensity threshold\n",
    "                    diff_map_volume_thresholded_neg = apply_volume_threshold(\n",
    "                        difference_map_path=difference_map_neg_path, \n",
    "                        volume_threshold= 25)\n",
    "                    nib.save(diff_map_volume_thresholded_neg, difference_map_vol_neg_path)"
   ]
  },
  {
   "cell_type": "code",
   "execution_count": 86,
   "metadata": {},
   "outputs": [],
   "source": [
    "seg_path ='/dataNAS/people/anoopai/DODGR/DODGR_data/DODGR022_anon/DODGR022_IDX_6mo_anon/segmentation_reg_fc.nii'\n",
    "diff_map_path ='/dataNAS/people/anoopai/DODGR/DODGR_data/DODGR022_anon/DODGR022_IDX_6mo_anon/difference_map.nii'\n",
    "cluster_map_path = '/dataNAS/people/anoopai/DODGR/DODGR_data/DODGR022_anon/DODGR022_IDX_6mo_anon/diff_map_volume_thresh_pos.nii'\n",
    "\n",
    "data = compute_T2C_metrics(cluster_map_path, diff_map_path)"
   ]
  },
  {
   "cell_type": "code",
   "execution_count": 101,
   "metadata": {},
   "outputs": [],
   "source": [
    "append_df_to_excel(data= data, data_file_path= '/dataNAS/people/anoopai/DODGR/results/T2C_metrics.xlsx', sheet='T2C_metrics2') "
   ]
  },
  {
   "cell_type": "code",
   "execution_count": 70,
   "metadata": {},
   "outputs": [
    {
     "data": {
      "text/plain": [
       "0.31245163"
      ]
     },
     "execution_count": 70,
     "metadata": {},
     "output_type": "execute_result"
    }
   ],
   "source": [
    "img = nib.load(seg_path)\n",
    "header = img.header\n",
    "\n",
    "# Extract the voxel dimensions\n",
    "voxel_dimensions = header.get_zooms()\n",
    "\n",
    "voxel_dimensions[0]"
   ]
  },
  {
   "cell_type": "code",
   "execution_count": 71,
   "metadata": {},
   "outputs": [
    {
     "data": {
      "text/plain": [
       "4"
      ]
     },
     "execution_count": 71,
     "metadata": {},
     "output_type": "execute_result"
    }
   ],
   "source": [
    "p= [1,2,3,4]\n",
    "len(p)"
   ]
  },
  {
   "cell_type": "code",
   "execution_count": 21,
   "metadata": {},
   "outputs": [
    {
     "data": {
      "text/plain": [
       "20971520"
      ]
     },
     "execution_count": 21,
     "metadata": {},
     "output_type": "execute_result"
    }
   ],
   "source": [
    "seg = nib.load(diff_map_path).get_fdata()\n",
    "\n",
    "# count non-zero voxels\n",
    "b= np.count_nonzero(seg)\n",
    "b= np.sum(~np.isnan(seg))\n",
    "b"
   ]
  },
  {
   "cell_type": "code",
   "execution_count": 9,
   "metadata": {},
   "outputs": [
    {
     "name": "stdout",
     "output_type": "stream",
     "text": [
      "Removed: /dataNAS/people/anoopai/DODGR/DODGR_data/DODGR022_anon/DODGR022_IDX_6mo_anon/T2C_int8.5_vol75_subregions_pos.nii\n",
      "Removed: /dataNAS/people/anoopai/DODGR/DODGR_data/DODGR022_anon/DODGR022_CL_6mo_anon/T2C_int8.5_vol75_subregions_pos.nii\n",
      "Removed: /dataNAS/people/anoopai/DODGR/DODGR_data/DODGR044_anon/DODGR044_IDX_6mo_anon/T2C_int8.5_vol75_subregions_pos.nii\n"
     ]
    }
   ],
   "source": [
    "# Revome folders:\n",
    "\n",
    "import os\n",
    "import shutil\n",
    "\n",
    "def remove_specific_files(root_dir):\n",
    "    \"\"\"\n",
    "    Iterate over all folders and files in the given directory and remove files with the specific name.\n",
    "    \n",
    "    Parameters:\n",
    "    - root_dir (str): The root directory to start the search.\n",
    "    - target_filename (str): The name of the file to be removed.\n",
    "    \"\"\"\n",
    "    for dirpath, dirnames, filenames in os.walk(root_dir):\n",
    "        for filename in filenames:\n",
    "            # print(filename)\n",
    "            if 'T2C_int8.5_vol75_subregions_pos' in filename:\n",
    "                file_path = os.path.join(dirpath, filename)\n",
    "                try:\n",
    "                    os.remove(file_path)\n",
    "                    # os.rename(file_path, file_path.replace('diff_map_intensity_thresh_pos.nii', 'T2C_int8.5_pos.nii'))\n",
    "                    print(f'Removed: {file_path}')\n",
    "                except OSError as e:\n",
    "                    print(f'Error removing {file_path}: {e}')\n",
    "\n",
    "        # for dirname in dirnames:\n",
    "        #     if 'qdess_reg' in dirname :\n",
    "        #         file_path = os.path.join(dirpath, dirname)\n",
    "                # try:\n",
    "                #     shutil.rmtree(file_path)\n",
    "                #     print(f'Removed: {file_path}')\n",
    "                # except OSError as e:\n",
    "                #     print(f'Error removing {file_path}: {e}')\n",
    "\n",
    "# Specify the root directory and the target filename\n",
    "root_directory = '/dataNAS/people/anoopai/DODGR/DODGR_data'\n",
    "\n",
    "# Call the function\n",
    "remove_specific_files(root_directory)\n"
   ]
  }
 ],
 "metadata": {
  "kernelspec": {
   "display_name": "dess",
   "language": "python",
   "name": "python3"
  },
  "language_info": {
   "codemirror_mode": {
    "name": "ipython",
    "version": 3
   },
   "file_extension": ".py",
   "mimetype": "text/x-python",
   "name": "python",
   "nbconvert_exporter": "python",
   "pygments_lexer": "ipython3",
   "version": "3.8.19"
  }
 },
 "nbformat": 4,
 "nbformat_minor": 2
}
